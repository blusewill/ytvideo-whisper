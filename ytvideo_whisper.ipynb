{
  "nbformat": 4,
  "nbformat_minor": 0,
  "metadata": {
    "colab": {
      "provenance": [],
      "gpuType": "T4",
      "authorship_tag": "ABX9TyMUVjyW11JHqO1xIh+hqTJp",
      "include_colab_link": true
    },
    "kernelspec": {
      "name": "python3",
      "display_name": "Python 3"
    },
    "language_info": {
      "name": "python"
    },
    "accelerator": "GPU",
    "gpuClass": "standard"
  },
  "cells": [
    {
      "cell_type": "markdown",
      "metadata": {
        "id": "view-in-github",
        "colab_type": "text"
      },
      "source": [
        "<a href=\"https://colab.research.google.com/github/blusewill/ytvideo-whisper/blob/dev/ytvideo_whisper.ipynb\" target=\"_parent\"><img src=\"https://colab.research.google.com/assets/colab-badge.svg\" alt=\"Open In Colab\"/></a>"
      ]
    },
    {
      "cell_type": "markdown",
      "source": [
        "# ytvideo-whisper\n",
        "\n",
        "This Project uses the Original [Whisper](https://github.com/openai/whisper) Project instead of Decipher Project.\n",
        "\n",
        "For Everyone who want to use the Original Whisper Project"
      ],
      "metadata": {
        "id": "8QQL1GjFTNNp"
      }
    },
    {
      "cell_type": "markdown",
      "source": [
        "# Usage\n",
        "\n",
        "1. Check the Runtime Type is on GPU Mode in ``Runtime -> Change Runtime Type ``\n",
        "1. Change the Settings at Settings Code Block\n",
        "1. Click ``Runtime -> Run all`` (CTRL+F9)\n",
        "1. Click on the Connect to Google Drive\n",
        "1. And Wait for a moment your Generated Srt should be on ``Google Drive -> Whisper -> result``"
      ],
      "metadata": {
        "id": "vrZvIN-oUKdx"
      }
    },
    {
      "cell_type": "markdown",
      "source": [
        "## Add Google Drive Access \n",
        "(at Google Drive/Whisper)"
      ],
      "metadata": {
        "id": "LTpjyRvaUVZh"
      }
    },
    {
      "cell_type": "code",
      "execution_count": 1,
      "metadata": {
        "colab": {
          "base_uri": "https://localhost:8080/"
        },
        "id": "-M2C9UlxTCjE",
        "outputId": "03c31380-a3c7-4625-d97e-bcc440a937d1"
      },
      "outputs": [
        {
          "output_type": "stream",
          "name": "stdout",
          "text": [
            "Mounted at /content/gdrive\n"
          ]
        }
      ],
      "source": [
        "from google.colab import drive\n",
        "import os\n",
        "\n",
        "path = '/content/gdrive/MyDrive/Whisper/'\n",
        "path2 = '/content/gdrive/MyDrive/Whisper/result'\n",
        "drive.mount('/content/gdrive')\n",
        "\n",
        "if not os.path.exists(path):\n",
        "  os.mkdir(path)\n",
        "  os.mkdir(path2)\n"
      ]
    },
    {
      "cell_type": "markdown",
      "source": [
        "# Install Components\n",
        "\n",
        "Package : yt-dlp ffmpeg openai-whisper"
      ],
      "metadata": {
        "id": "HiME-JOSUfhd"
      }
    },
    {
      "cell_type": "code",
      "source": [
        "! pip install openai-whisper yt-dlp ffmpeg"
      ],
      "metadata": {
        "colab": {
          "base_uri": "https://localhost:8080/"
        },
        "id": "aXCqLjY0Uz0c",
        "outputId": "22d9e2fe-0c0b-4d0b-f970-e5fc718cf484"
      },
      "execution_count": 2,
      "outputs": [
        {
          "output_type": "stream",
          "name": "stdout",
          "text": [
            "Looking in indexes: https://pypi.org/simple, https://us-python.pkg.dev/colab-wheels/public/simple/\n",
            "Collecting openai-whisper\n",
            "  Downloading openai-whisper-20230314.tar.gz (792 kB)\n",
            "\u001b[2K     \u001b[90m━━━━━━━━━━━━━━━━━━━━━━━━━━━━━━━━━━━━━━\u001b[0m \u001b[32m792.9/792.9 kB\u001b[0m \u001b[31m18.1 MB/s\u001b[0m eta \u001b[36m0:00:00\u001b[0m\n",
            "\u001b[?25h  Installing build dependencies ... \u001b[?25l\u001b[?25hdone\n",
            "  Getting requirements to build wheel ... \u001b[?25l\u001b[?25hdone\n",
            "  Preparing metadata (pyproject.toml) ... \u001b[?25l\u001b[?25hdone\n",
            "Collecting yt-dlp\n",
            "  Downloading yt_dlp-2023.3.4-py2.py3-none-any.whl (2.9 MB)\n",
            "\u001b[2K     \u001b[90m━━━━━━━━━━━━━━━━━━━━━━━━━━━━━━━━━━━━━━━━\u001b[0m \u001b[32m2.9/2.9 MB\u001b[0m \u001b[31m88.6 MB/s\u001b[0m eta \u001b[36m0:00:00\u001b[0m\n",
            "\u001b[?25hCollecting ffmpeg\n",
            "  Downloading ffmpeg-1.4.tar.gz (5.1 kB)\n",
            "  Preparing metadata (setup.py) ... \u001b[?25l\u001b[?25hdone\n",
            "Requirement already satisfied: triton==2.0.0 in /usr/local/lib/python3.10/dist-packages (from openai-whisper) (2.0.0)\n",
            "Requirement already satisfied: numba in /usr/local/lib/python3.10/dist-packages (from openai-whisper) (0.56.4)\n",
            "Requirement already satisfied: numpy in /usr/local/lib/python3.10/dist-packages (from openai-whisper) (1.22.4)\n",
            "Requirement already satisfied: torch in /usr/local/lib/python3.10/dist-packages (from openai-whisper) (2.0.1+cu118)\n",
            "Requirement already satisfied: tqdm in /usr/local/lib/python3.10/dist-packages (from openai-whisper) (4.65.0)\n",
            "Requirement already satisfied: more-itertools in /usr/local/lib/python3.10/dist-packages (from openai-whisper) (9.1.0)\n",
            "Collecting tiktoken==0.3.1 (from openai-whisper)\n",
            "  Downloading tiktoken-0.3.1-cp310-cp310-manylinux_2_17_x86_64.manylinux2014_x86_64.whl (1.7 MB)\n",
            "\u001b[2K     \u001b[90m━━━━━━━━━━━━━━━━━━━━━━━━━━━━━━━━━━━━━━━━\u001b[0m \u001b[32m1.7/1.7 MB\u001b[0m \u001b[31m74.0 MB/s\u001b[0m eta \u001b[36m0:00:00\u001b[0m\n",
            "\u001b[?25hCollecting ffmpeg-python==0.2.0 (from openai-whisper)\n",
            "  Downloading ffmpeg_python-0.2.0-py3-none-any.whl (25 kB)\n",
            "Requirement already satisfied: future in /usr/local/lib/python3.10/dist-packages (from ffmpeg-python==0.2.0->openai-whisper) (0.18.3)\n",
            "Requirement already satisfied: regex>=2022.1.18 in /usr/local/lib/python3.10/dist-packages (from tiktoken==0.3.1->openai-whisper) (2022.10.31)\n",
            "Requirement already satisfied: requests>=2.26.0 in /usr/local/lib/python3.10/dist-packages (from tiktoken==0.3.1->openai-whisper) (2.27.1)\n",
            "Requirement already satisfied: cmake in /usr/local/lib/python3.10/dist-packages (from triton==2.0.0->openai-whisper) (3.25.2)\n",
            "Requirement already satisfied: filelock in /usr/local/lib/python3.10/dist-packages (from triton==2.0.0->openai-whisper) (3.12.0)\n",
            "Requirement already satisfied: lit in /usr/local/lib/python3.10/dist-packages (from triton==2.0.0->openai-whisper) (16.0.5)\n",
            "Collecting mutagen (from yt-dlp)\n",
            "  Downloading mutagen-1.46.0-py3-none-any.whl (193 kB)\n",
            "\u001b[2K     \u001b[90m━━━━━━━━━━━━━━━━━━━━━━━━━━━━━━━━━━━━━━\u001b[0m \u001b[32m193.6/193.6 kB\u001b[0m \u001b[31m15.0 MB/s\u001b[0m eta \u001b[36m0:00:00\u001b[0m\n",
            "\u001b[?25hCollecting pycryptodomex (from yt-dlp)\n",
            "  Downloading pycryptodomex-3.18.0-cp35-abi3-manylinux_2_17_x86_64.manylinux2014_x86_64.whl (2.1 MB)\n",
            "\u001b[2K     \u001b[90m━━━━━━━━━━━━━━━━━━━━━━━━━━━━━━━━━━━━━━━━\u001b[0m \u001b[32m2.1/2.1 MB\u001b[0m \u001b[31m95.7 MB/s\u001b[0m eta \u001b[36m0:00:00\u001b[0m\n",
            "\u001b[?25hCollecting websockets (from yt-dlp)\n",
            "  Downloading websockets-11.0.3-cp310-cp310-manylinux_2_5_x86_64.manylinux1_x86_64.manylinux_2_17_x86_64.manylinux2014_x86_64.whl (129 kB)\n",
            "\u001b[2K     \u001b[90m━━━━━━━━━━━━━━━━━━━━━━━━━━━━━━━━━━━━━━\u001b[0m \u001b[32m129.9/129.9 kB\u001b[0m \u001b[31m18.0 MB/s\u001b[0m eta \u001b[36m0:00:00\u001b[0m\n",
            "\u001b[?25hRequirement already satisfied: certifi in /usr/local/lib/python3.10/dist-packages (from yt-dlp) (2022.12.7)\n",
            "Collecting brotli (from yt-dlp)\n",
            "  Downloading Brotli-1.0.9-cp310-cp310-manylinux_2_5_x86_64.manylinux1_x86_64.manylinux_2_12_x86_64.manylinux2010_x86_64.whl (2.7 MB)\n",
            "\u001b[2K     \u001b[90m━━━━━━━━━━━━━━━━━━━━━━━━━━━━━━━━━━━━━━━━\u001b[0m \u001b[32m2.7/2.7 MB\u001b[0m \u001b[31m112.5 MB/s\u001b[0m eta \u001b[36m0:00:00\u001b[0m\n",
            "\u001b[?25hRequirement already satisfied: llvmlite<0.40,>=0.39.0dev0 in /usr/local/lib/python3.10/dist-packages (from numba->openai-whisper) (0.39.1)\n",
            "Requirement already satisfied: setuptools in /usr/local/lib/python3.10/dist-packages (from numba->openai-whisper) (67.7.2)\n",
            "Requirement already satisfied: typing-extensions in /usr/local/lib/python3.10/dist-packages (from torch->openai-whisper) (4.5.0)\n",
            "Requirement already satisfied: sympy in /usr/local/lib/python3.10/dist-packages (from torch->openai-whisper) (1.11.1)\n",
            "Requirement already satisfied: networkx in /usr/local/lib/python3.10/dist-packages (from torch->openai-whisper) (3.1)\n",
            "Requirement already satisfied: jinja2 in /usr/local/lib/python3.10/dist-packages (from torch->openai-whisper) (3.1.2)\n",
            "Requirement already satisfied: urllib3<1.27,>=1.21.1 in /usr/local/lib/python3.10/dist-packages (from requests>=2.26.0->tiktoken==0.3.1->openai-whisper) (1.26.15)\n",
            "Requirement already satisfied: charset-normalizer~=2.0.0 in /usr/local/lib/python3.10/dist-packages (from requests>=2.26.0->tiktoken==0.3.1->openai-whisper) (2.0.12)\n",
            "Requirement already satisfied: idna<4,>=2.5 in /usr/local/lib/python3.10/dist-packages (from requests>=2.26.0->tiktoken==0.3.1->openai-whisper) (3.4)\n",
            "Requirement already satisfied: MarkupSafe>=2.0 in /usr/local/lib/python3.10/dist-packages (from jinja2->torch->openai-whisper) (2.1.2)\n",
            "Requirement already satisfied: mpmath>=0.19 in /usr/local/lib/python3.10/dist-packages (from sympy->torch->openai-whisper) (1.3.0)\n",
            "Building wheels for collected packages: openai-whisper, ffmpeg\n",
            "  Building wheel for openai-whisper (pyproject.toml) ... \u001b[?25l\u001b[?25hdone\n",
            "  Created wheel for openai-whisper: filename=openai_whisper-20230314-py3-none-any.whl size=796910 sha256=aa3f96357b98ead382937feffc492661267c2179993d0253a265a58f039c8db5\n",
            "  Stored in directory: /root/.cache/pip/wheels/b2/13/5f/fe8245f6dc59df505879da4b2129932e342f02a80e6b87f27d\n",
            "  Building wheel for ffmpeg (setup.py) ... \u001b[?25l\u001b[?25hdone\n",
            "  Created wheel for ffmpeg: filename=ffmpeg-1.4-py3-none-any.whl size=6083 sha256=2e94473365aa10a5f5b8f11a43443fd21dbbf1b704572721854d47d8d21c6f9a\n",
            "  Stored in directory: /root/.cache/pip/wheels/8e/7a/69/cd6aeb83b126a7f04cbe7c9d929028dc52a6e7d525ff56003a\n",
            "Successfully built openai-whisper ffmpeg\n",
            "Installing collected packages: ffmpeg, brotli, websockets, pycryptodomex, mutagen, ffmpeg-python, yt-dlp, tiktoken, openai-whisper\n",
            "Successfully installed brotli-1.0.9 ffmpeg-1.4 ffmpeg-python-0.2.0 mutagen-1.46.0 openai-whisper-20230314 pycryptodomex-3.18.0 tiktoken-0.3.1 websockets-11.0.3 yt-dlp-2023.3.4\n"
          ]
        }
      ]
    },
    {
      "cell_type": "markdown",
      "source": [
        "# GPU Checkup\n",
        "\n",
        "If Nothing shows up means you didn't enable GPU in the ``Runtime -> Change Runtime type``"
      ],
      "metadata": {
        "id": "pWfd0B3nU_5o"
      }
    },
    {
      "cell_type": "code",
      "source": [
        "! nvidia-smi"
      ],
      "metadata": {
        "colab": {
          "base_uri": "https://localhost:8080/"
        },
        "id": "ukF_tYc9VfGS",
        "outputId": "ae5ab470-6874-4d3f-f034-2feaf363b5b5"
      },
      "execution_count": 3,
      "outputs": [
        {
          "output_type": "stream",
          "name": "stdout",
          "text": [
            "Wed May 24 06:50:45 2023       \n",
            "+-----------------------------------------------------------------------------+\n",
            "| NVIDIA-SMI 525.85.12    Driver Version: 525.85.12    CUDA Version: 12.0     |\n",
            "|-------------------------------+----------------------+----------------------+\n",
            "| GPU  Name        Persistence-M| Bus-Id        Disp.A | Volatile Uncorr. ECC |\n",
            "| Fan  Temp  Perf  Pwr:Usage/Cap|         Memory-Usage | GPU-Util  Compute M. |\n",
            "|                               |                      |               MIG M. |\n",
            "|===============================+======================+======================|\n",
            "|   0  Tesla T4            Off  | 00000000:00:04.0 Off |                    0 |\n",
            "| N/A   37C    P8     9W /  70W |      0MiB / 15360MiB |      0%      Default |\n",
            "|                               |                      |                  N/A |\n",
            "+-------------------------------+----------------------+----------------------+\n",
            "                                                                               \n",
            "+-----------------------------------------------------------------------------+\n",
            "| Processes:                                                                  |\n",
            "|  GPU   GI   CI        PID   Type   Process name                  GPU Memory |\n",
            "|        ID   ID                                                   Usage      |\n",
            "|=============================================================================|\n",
            "|  No running processes found                                                 |\n",
            "+-----------------------------------------------------------------------------+\n"
          ]
        }
      ]
    },
    {
      "cell_type": "markdown",
      "source": [
        "# Settings\n"
      ],
      "metadata": {
        "id": "cRpdHsXmVqsv"
      }
    },
    {
      "cell_type": "code",
      "source": [
        "#@markdown # **Video Link Here**\n",
        "# YouTube Link\n",
        "YouTube_Video_Link = \"https://www.youtube.com/watch?v=kfQC-sQxMcw\" #@param {type:\"string\"}\n",
        "# File Name Change\n",
        "new_filename = \"6-Month Health Transformation\" #@param {type:\"string\"}\n",
        "#@markdown Note: Leave it Blank to let it audio Detect the Language\n",
        "# Change it to srt file type\n",
        "new_filename = os.path.splitext(new_filename)[0] + \".srt\"\n",
        "new_filename2 = os.path.splitext(new_filename)[0] + \".txt\"\n",
        "# Change the Model of the Whisper\n",
        "#@markdown # **Other Options**\n",
        "shutdown_after_complete = \"yes\" #@param ['yes','no']\n",
        "model_user = \"medium\" #@param ['tiny.en','tiny','base.en','base','small.en','small','medium.en','medium','large-v1','large-v2','large']"
      ],
      "metadata": {
        "id": "IccTHdDOVxgL"
      },
      "execution_count": 4,
      "outputs": []
    },
    {
      "cell_type": "markdown",
      "source": [
        "# Download the Video\n",
        "using the yt-dlp and ffmpeg"
      ],
      "metadata": {
        "id": "j1vEu7rbV6xJ"
      }
    },
    {
      "cell_type": "code",
      "source": [
        "import yt_dlp\n",
        "\n",
        "ydl_opts = {\n",
        "    'format': 'bestaudio/best',\n",
        "    'postprocessors': [{\n",
        "        'key': 'FFmpegExtractAudio',\n",
        "        'preferredcodec': 'mp3',\n",
        "        'preferredquality': '192',\n",
        "    }],\n",
        "        'outtmpl': 'content/audio',\n",
        "}\n",
        "with yt_dlp.YoutubeDL(ydl_opts) as ydl:\n",
        "    ydl.download([YouTube_Video_Link])"
      ],
      "metadata": {
        "colab": {
          "base_uri": "https://localhost:8080/"
        },
        "id": "o6o0YbciV_aS",
        "outputId": "cc8a0ad1-ec00-4e58-f7d8-edbc401855fc"
      },
      "execution_count": 5,
      "outputs": [
        {
          "output_type": "stream",
          "name": "stdout",
          "text": [
            "[youtube] Extracting URL: https://www.youtube.com/watch?v=kfQC-sQxMcw\n",
            "[youtube] kfQC-sQxMcw: Downloading webpage\n",
            "[youtube] kfQC-sQxMcw: Downloading android player API JSON\n",
            "[youtube] kfQC-sQxMcw: Downloading player 41b8bed0\n",
            "[info] kfQC-sQxMcw: Downloading 1 format(s): 251\n",
            "[dashsegments] Total fragments: 1\n",
            "[download] Destination: content/audio\n",
            "[download] 100% of    9.39MiB in 00:00:00 at 26.93MiB/s              \n",
            "[ExtractAudio] Destination: content/audio.mp3\n",
            "Deleting original file content/audio (pass -k to keep)\n"
          ]
        }
      ]
    },
    {
      "cell_type": "markdown",
      "source": [
        "# Generating the SRT file"
      ],
      "metadata": {
        "id": "ZzO86nhoWPu2"
      }
    },
    {
      "cell_type": "code",
      "source": [
        "import whisper\n",
        "\n",
        "model = whisper.load_model(model_user)\n",
        "\n",
        "print(\"Whisper model loaded.\")\n",
        "\n",
        "\n",
        "from whisper.utils import get_writer\n",
        "\n",
        "filename = \"audio.mp3\"\n",
        "input_directory = \"content\"\n",
        "input_file = f\"{input_directory}/{filename}\"\n",
        "\n",
        "result = model.transcribe(input_file, verbose=True)\n",
        "transcription_root = \"/content/gdrive/MyDrive/Whisper/result\"\n",
        "\n",
        "# Save as an SRT file\n",
        "srt_writer = get_writer(\"srt\", transcription_root,)\n",
        "srt_writer(result, new_filename)\n",
        "\n",
        "# Also Save as TXT file\n",
        "srt_writer = get_writer(\"txt\", transcription_root,)\n",
        "srt_writer(result, new_filename2)\n",
        "\n",
        "print(\"Generated SRT and txt file in the Whisper/result Folder\")"
      ],
      "metadata": {
        "colab": {
          "base_uri": "https://localhost:8080/"
        },
        "id": "ZnFM1sy3WTBh",
        "outputId": "1ca5fbcf-fa50-42f2-e1c8-7ec6a6cf7c5d"
      },
      "execution_count": 6,
      "outputs": [
        {
          "output_type": "stream",
          "name": "stderr",
          "text": [
            "100%|██████████████████████████████████████| 1.42G/1.42G [00:12<00:00, 120MiB/s]\n"
          ]
        },
        {
          "output_type": "stream",
          "name": "stdout",
          "text": [
            "Whisper model loaded.\n",
            "Detecting language using up to the first 30 seconds. Use `--language` to specify the language\n",
            "Detected language: English\n",
            "[00:00.000 --> 00:06.920]  It's been a little bit on the fitness update a lot of people have been following me for any period of time\n",
            "[00:06.920 --> 00:12.360]  You know that I've been working out this past six months. What you may not have known is\n",
            "[00:13.000 --> 00:17.720]  This I actually got diagnosed this past year with\n",
            "[00:18.200 --> 00:25.520]  Gilbert's disease which means I can't drink alcohol and then also fatty liver and just really bad lipid panels and just overall\n",
            "[00:25.840 --> 00:32.020]  Low low exercise just health in general my HDLs were also low which leads to you know\n",
            "[00:32.020 --> 00:35.360]  Hey, I was sitting around like most computer guys out there\n",
            "[00:35.360 --> 00:38.020]  I was sitting at a computer eight hours plus day\n",
            "[00:38.020 --> 00:44.700]  And then I get off of my job or whatever I was doing and then I play games on a computer or whatever\n",
            "[00:44.700 --> 00:48.600]  I was usually on a computer for ten plus hours a day at least and\n",
            "[00:49.540 --> 00:51.960]  It led to a very very unhealthy\n",
            "[00:52.520 --> 00:59.400]  You know problems with my actual scores when I went to the doctor he's like dude you need to work out I\n",
            "[01:00.320 --> 01:07.840]  Was like okay alright. I get the hint. It's bad when your doctor's telling you that so obviously drastic measures had to be changed and\n",
            "[01:08.040 --> 01:11.000]  I have taken those and I feel so much better\n",
            "[01:11.000 --> 01:16.680]  So I wanted to share my journey to my subscribers if you're just finding this video as a fitness transformation video\n",
            "[01:16.680 --> 01:20.760]  You can still take all the advice in this video, but please don't subscribe. I am a tech channel\n",
            "[01:20.760 --> 01:25.560]  This is just a one-off video so with that. Let's get into it\n",
            "[01:28.440 --> 01:30.440]  So getting into the actual\n",
            "[01:30.960 --> 01:37.720]  Transformation the first part is the most important part which is my health the blood test you see before you over on this side\n",
            "[01:37.720 --> 01:43.160]  You can see nothing that bad triglycerides a little elevated cholesterol is getting a little high\n",
            "[01:44.480 --> 01:50.080]  HDLs were low. This is your good cholesterol, and that's what my doctor said you need to work out and also\n",
            "[01:50.080 --> 01:55.940]  Let me know I had a fatty liver and my LDLs are starting to get close to warning levels\n",
            "[01:55.940 --> 02:01.620]  And then when we look on this side you can see the the cholesterol is decreased a little bit\n",
            "[02:01.620 --> 02:07.040]  Which was kind of surprising which I'll let you know why here in a second triglyceride took a sharp decrease\n",
            "[02:07.560 --> 02:11.500]  HDLs big increase and then my LDLs even went down which\n",
            "[02:12.320 --> 02:16.220]  As far as my nutrition I'll get into but I've been eating three eggs a day\n",
            "[02:16.260 --> 02:21.920]  That was a big nutrition or diet change I was usually eating cereal for breakfast instead\n",
            "[02:21.920 --> 02:27.820]  I switched from your regular cereal to just eating three eggs with a little pepper nothing else and\n",
            "[02:28.740 --> 02:32.840]  So I've always been told eggs increase cholesterol when you eat the yolk\n",
            "[02:33.700 --> 02:39.400]  I'm not sure that's actually true at least not for me at my age in my current\n",
            "[02:40.060 --> 02:45.180]  Workout regimen kind of interesting now as far as the physical transformation you can see\n",
            "[02:46.220 --> 02:48.660]  Kind of a pretty big difference between\n",
            "[02:49.340 --> 02:55.060]  This now I've fend out a little bit probably the biggest surprise to people probably watching this\n",
            "[02:55.060 --> 02:58.660]  I haven't gained any weight. I haven't lost any weight. I'm\n",
            "[02:59.300 --> 03:06.120]  185 in both pictures, so it's been six months and that was there from aside\n",
            "[03:06.220 --> 03:11.500]  Not much difference as far as you know my biceps have gotten bigger. I've toned out a little bit\n",
            "[03:12.020 --> 03:17.060]  I was definitely pudgy in the left picture where you touch me, and I was a little soft and now I'm just much more toned\n",
            "[03:18.340 --> 03:20.340]  but overall\n",
            "[03:20.860 --> 03:22.940]  Not a huge difference\n",
            "[03:22.940 --> 03:28.340]  I know people are writing in the comments already and go I look pretty much the same from the left picture to the right picture\n",
            "[03:28.580 --> 03:31.380]  But I mean I just feel so much better\n",
            "[03:33.940 --> 03:35.940]  As far as nutrition\n",
            "[03:36.220 --> 03:38.420]  I've never been great with nutrition\n",
            "[03:38.420 --> 03:42.340]  I always like quick and easy snacks things that don't take any time to prepare\n",
            "[03:42.420 --> 03:49.060]  So really I had to change three things to really fix this for me one alcohol was killing me\n",
            "[03:50.060 --> 03:54.780]  Alcohol is a poison who knew right don't drink alcohol, but for me\n",
            "[03:55.500 --> 03:59.540]  Absolutely no more than once a month and even that once a month. I always feel bad afterwards\n",
            "[03:59.540 --> 04:01.940]  So if you can cut out alcohol together do it\n",
            "[04:02.340 --> 04:08.060]  But definitely cut back if you're trying to be healthy otherwise yeah, you're just gonna be fat\n",
            "[04:08.060 --> 04:14.380]  I mean that's if you're 40 plus you can't be drinking alcohol on a daily basis\n",
            "[04:14.380 --> 04:17.860]  It's just there's no way to be healthy if that's you so\n",
            "[04:18.580 --> 04:25.220]  Alcohol big no no everyone knows it, but we don't like to admit it second thing added sugar\n",
            "[04:25.220 --> 04:30.820]  I would say added sugar is kind of a sneaky one because I used to eat a whole bunch of bars like you know protein\n",
            "[04:30.820 --> 04:33.940]  Bars, I'm like I'm getting my protein in I'm getting swole nom nom nom\n",
            "[04:35.460 --> 04:41.260]  But really they're just awful this chock full of sugar and usually has a whole bunch of refined carbs\n",
            "[04:41.260 --> 04:46.700]  Which is my third one and in that same realm of the refined carbs with tons of sugar\n",
            "[04:47.300 --> 04:51.700]  Cereal and all the things that we really enjoy or at least for me\n",
            "[04:51.740 --> 04:56.100]  So after I cut down on all these and limited them drastically\n",
            "[04:56.100 --> 05:00.300]  I saw a huge change in just my mood energy levels everything\n",
            "[05:00.860 --> 05:04.340]  And that's all I really have to say about nutrition. I'd say for breakfast\n",
            "[05:05.060 --> 05:07.060]  Substituting cereal for the three eggs\n",
            "[05:07.180 --> 05:11.180]  Baw game changer if I need a little extra fuel or energy\n",
            "[05:11.780 --> 05:18.300]  sometimes I'll do steel or rolled oats and cook that on the stove with just a light drizzle of honey and\n",
            "[05:18.620 --> 05:21.220]  Add in some half-and-half to make it kind of creamy\n",
            "[05:21.220 --> 05:27.180]  Oh that that also gives me a little bit if I'm going for an alternative to my traditional three eggs\n",
            "[05:27.380 --> 05:33.540]  But usually the eggs I never skimp on so that's my nutrition in a nutshell nothing too crazy there\n",
            "[05:33.540 --> 05:37.020]  I do try to get 40% protein 30% fat 30%\n",
            "[05:37.700 --> 05:43.220]  With carbs and I would say the fats and the proteins are hard to get carbs\n",
            "[05:43.220 --> 05:48.720]  You can get almost in anything but getting those were the hardest things to adjust my nutrition for\n",
            "[05:49.620 --> 05:52.300]  Using fat free stuff. I found was just complete garbage\n",
            "[05:52.700 --> 05:58.820]  Fat free stuff was just robbing me of energy and I wasn't able to hit my 30% fat content when I was just\n",
            "[05:59.180 --> 06:04.020]  Eating regular so I thought that was kind of a funny tidbit as well as I think it was in the 90s\n",
            "[06:04.020 --> 06:06.180]  Everyone was fat free everything don't do that\n",
            "[06:07.340 --> 06:09.340]  artificial sweeteners and in fat free stuff\n",
            "[06:09.980 --> 06:17.060]  Absolute garbage even though it's been thrown down our throats for the past 20 years. So as far as getting the workout now\n",
            "[06:17.940 --> 06:22.460]  Now as far as the workouts go I'm gonna start just showing one in the background here\n",
            "[06:22.460 --> 06:25.580]  This is called the light Murph. It's a 1000 meter\n",
            "[06:26.180 --> 06:31.980]  50 pull-ups 100 push-ups 150 air squats and then another thousand meters\n",
            "[06:32.500 --> 06:37.900]  And that is just a really good basis of CrossFit, which I got into however\n",
            "[06:37.900 --> 06:39.540]  I would not start out that way\n",
            "[06:39.540 --> 06:42.940]  I usually started out with walks and light jogs and then\n",
            "[06:43.060 --> 06:47.660]  Once I got in kind of okay shape where I was doing something active every day and I was like, okay\n",
            "[06:47.660 --> 06:49.660]  I really need to make a change and become healthy\n",
            "[06:49.660 --> 06:54.460]  That's when I committed to CrossFit and I just went down to CrossFit galliant\n",
            "[06:54.460 --> 06:59.460]  That's where this is actually being filmed from shout out to Drew who said I could film\n",
            "[07:00.220 --> 07:05.940]  This workout as you see me just kind of kill myself in the background here, but I\n",
            "[07:07.020 --> 07:10.700]  Really wanted to do this because that's what I wanted to do\n",
            "[07:10.700 --> 07:16.100]  I really wanted to do this because that that commitment and I knew it was challenging\n",
            "[07:16.100 --> 07:23.580]  But I also knew that CrossFit has a lot of really cool things going for it with strength and metabolic conditioning\n",
            "[07:23.700 --> 07:27.360]  It kind of gives you everything you need because a lot of times when you're older\n",
            "[07:27.420 --> 07:33.980]  You're just gonna run a whole bunch outside and bust up your knees and hurt yourself and I found with CrossFit\n",
            "[07:33.980 --> 07:36.020]  It's a good balance of everything, you know\n",
            "[07:36.500 --> 07:42.680]  The whole it's right in the name CrossFitness where you're doing, you know your cardio you got your\n",
            "[07:43.300 --> 07:49.460]  Weightlifting you got your strength all that's built in. So I'm just really moderate with a lot of my choices in weight\n",
            "[07:49.460 --> 07:51.460]  I never ego lift\n",
            "[07:51.740 --> 07:56.220]  You know, there's some things about CrossFit, you know when I think about it when I first did it\n",
            "[07:56.220 --> 07:59.380]  I was like, oh my god, it's those like butterfly pull-ups and things like that\n",
            "[08:00.140 --> 08:03.220]  Which I don't really do but it's kind of\n",
            "[08:03.860 --> 08:06.900]  Synonymous with the you know CrossFit I\n",
            "[08:07.860 --> 08:12.740]  Still love it though. I've gotten into it. I would say those first four or five months of it\n",
            "[08:12.740 --> 08:14.740]  I kind of hated going every day\n",
            "[08:15.140 --> 08:18.660]  Which I've actually gotten to about three to four days\n",
            "[08:18.660 --> 08:23.780]  I think when I first started I was doing only three days a week and then I tried I moved that to four days a\n",
            "[08:23.780 --> 08:27.200]  Week as soon as I could I was able to recover and go\n",
            "[08:27.760 --> 08:33.760]  And that's been really really helpful and I've loved these style of workouts where I just show up\n",
            "[08:33.760 --> 08:36.560]  I can turn my brain off and then I'm like, okay\n",
            "[08:36.560 --> 08:39.840]  What do we what muscle group we working on and then when I'm doing that lift?\n",
            "[08:39.840 --> 08:44.640]  I just focus on that muscle what should be used and just if I get tired\n",
            "[08:44.640 --> 08:51.900]  I just kind of keep going until I finish the workout and that has been phenomenal. I've loved this\n",
            "[08:52.620 --> 08:54.620]  The most\n",
            "[08:54.700 --> 09:00.620]  And again big shout out to CrossFit Galleon and even drew set down with me and did it like a nutrition consult\n",
            "[09:01.180 --> 09:05.900]  And and if you are in the Dallas Fort Worth area, I highly recommend checking them out\n",
            "[09:06.620 --> 09:11.100]  Because without them, you know, I I don't know how this whole journey would have gone\n",
            "[09:11.100 --> 09:15.420]  I wouldn't be nearly as far as I am today and I just\n",
            "[09:16.140 --> 09:21.500]  love what I do and having as much energy as I have and being able to\n",
            "[09:22.780 --> 09:25.260]  Sit here and be a lot much better health\n",
            "[09:25.820 --> 09:30.460]  So I i'm very thankful for learning all this stuff along the way\n",
            "[09:31.020 --> 09:36.860]  And hopefully this helps other people out there that are watching this and motivates you to to do it\n",
            "[09:37.020 --> 09:39.820]  You don't necessarily have to do CrossFit or whatever it is\n",
            "[09:40.220 --> 09:45.500]  Just just pick something that makes you active every day because that's the big thing is getting out there\n",
            "[09:45.660 --> 09:49.980]  Don't just be sitting inside all the time something that makes you sweat\n",
            "[09:50.460 --> 09:56.700]  Every single day and I I just want to end it with just saying this be uncomfortable if you're comfortable all the time\n",
            "[09:57.260 --> 09:59.260]  You're doing it wrong\n",
            "[09:59.580 --> 10:03.900]  You got to be a little uncomfortable and kind of get outside there and go. Oh man. I'm tired\n",
            "[10:03.900 --> 10:06.940]  I don't want to do this. That's the things you really need to do\n",
            "[10:07.740 --> 10:14.300]  And that's what uh kind of CrossFit gives me because it always makes me uncomfortable. I'm always like god. I don't want to do this\n",
            "[10:15.340 --> 10:18.300]  But at the end of it, I just feel amazing. So\n",
            "[10:19.100 --> 10:20.460]  Thank you guys\n",
            "[10:20.460 --> 10:24.140]  Let me know in the comments. What are you doing? Because that's the big thing\n",
            "[10:24.220 --> 10:28.780]  I really want more people to to be fitter, especially in the IT industry\n",
            "[10:29.340 --> 10:32.620]  We are so unhealthy usually being on our computers as long as we are\n",
            "[10:33.340 --> 10:39.820]  And making this change just impacted my life in such a positive way. So thank you all and i'll see you\n",
            "[10:40.380 --> 10:42.380]  In the next one\n",
            "Generated SRT and txt file in the Whisper/result Folder\n"
          ]
        }
      ]
    },
    {
      "cell_type": "markdown",
      "source": [
        "# Auto Shutdown the Runtime"
      ],
      "metadata": {
        "id": "tM61x2JuYBl-"
      }
    },
    {
      "cell_type": "code",
      "source": [
        "if shutdown_after_complete.lower() == \"yes\":\n",
        "    print(\"Shutting Down the Runtime Because Shutdown After Complete is on\")\n",
        "    from google.colab import runtime\n",
        "    runtime.unassign()"
      ],
      "metadata": {
        "colab": {
          "base_uri": "https://localhost:8080/",
          "height": 34
        },
        "id": "dUKHF0-rYGvq",
        "outputId": "115d8f09-2096-4b22-ddb2-c5e830447da0"
      },
      "execution_count": 7,
      "outputs": [
        {
          "output_type": "stream",
          "name": "stdout",
          "text": [
            "Shutting Down the Runtime Because Shutdown After Complete is on\n"
          ]
        }
      ]
    }
  ]
}