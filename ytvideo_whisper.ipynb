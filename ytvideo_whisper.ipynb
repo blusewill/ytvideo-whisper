{
  "cells": [
    {
      "cell_type": "markdown",
      "metadata": {
        "id": "view-in-github",
        "colab_type": "text"
      },
      "source": [
        "<a href=\"https://colab.research.google.com/github/blusewill/ytvideo-whisper/blob/dev/ytvideo_whisper.ipynb\" target=\"_parent\"><img src=\"https://colab.research.google.com/assets/colab-badge.svg\" alt=\"Open In Colab\"/></a>"
      ]
    },
    {
      "cell_type": "markdown",
      "metadata": {
        "id": "8QQL1GjFTNNp"
      },
      "source": [
        "# ytvideo-whisper\n",
        "\n",
        "This Project uses the Original [Whisper](https://github.com/openai/whisper) Project instead of Decipher Project.\n",
        "\n",
        "For Everyone who want to use the Original Whisper Project"
      ]
    },
    {
      "cell_type": "markdown",
      "metadata": {
        "id": "vrZvIN-oUKdx"
      },
      "source": [
        "# Usage\n",
        "\n",
        "1. Check the Runtime Type is on GPU Mode in ``Runtime -> Change Runtime Type ``\n",
        "1. Change the Settings at Settings Code Block\n",
        "1. Click ``Runtime -> Run all`` (CTRL+F9)\n",
        "1. Click on the Connect to Google Drive\n",
        "1. And Wait for a moment your Generated Srt should be on ``Google Drive -> Whisper -> result``"
      ]
    },
    {
      "cell_type": "markdown",
      "metadata": {
        "id": "LTpjyRvaUVZh"
      },
      "source": [
        "## Add Google Drive Access \n",
        "(at Google Drive/Whisper)"
      ]
    },
    {
      "cell_type": "code",
      "execution_count": 1,
      "metadata": {
        "id": "-M2C9UlxTCjE",
        "colab": {
          "base_uri": "https://localhost:8080/"
        },
        "outputId": "ab7b935d-5d94-417e-a413-21f34d0eca56"
      },
      "outputs": [
        {
          "output_type": "stream",
          "name": "stdout",
          "text": [
            "Mounted at /content/gdrive\n"
          ]
        }
      ],
      "source": [
        "from google.colab import drive\n",
        "import os\n",
        "\n",
        "path = '/content/gdrive/MyDrive/Whisper/'\n",
        "path2 = '/content/gdrive/MyDrive/Whisper/result'\n",
        "drive.mount('/content/gdrive')\n",
        "\n",
        "if not os.path.exists(path):\n",
        "  os.mkdir(path)\n",
        "  os.mkdir(path2)\n"
      ]
    },
    {
      "cell_type": "markdown",
      "metadata": {
        "id": "HiME-JOSUfhd"
      },
      "source": [
        "# Install Components\n",
        "\n",
        "Package : yt-dlp ffmpeg openai-whisper"
      ]
    },
    {
      "cell_type": "code",
      "execution_count": 2,
      "metadata": {
        "id": "aXCqLjY0Uz0c",
        "colab": {
          "base_uri": "https://localhost:8080/"
        },
        "outputId": "c83565e5-41c9-42b9-f8c9-5d38bcba0433"
      },
      "outputs": [
        {
          "output_type": "stream",
          "name": "stdout",
          "text": [
            "Looking in indexes: https://pypi.org/simple, https://us-python.pkg.dev/colab-wheels/public/simple/\n",
            "Collecting openai-whisper\n",
            "  Downloading openai-whisper-20230314.tar.gz (792 kB)\n",
            "\u001b[2K     \u001b[90m━━━━━━━━━━━━━━━━━━━━━━━━━━━━━━━━━━━━━━\u001b[0m \u001b[32m792.9/792.9 kB\u001b[0m \u001b[31m44.8 MB/s\u001b[0m eta \u001b[36m0:00:00\u001b[0m\n",
            "\u001b[?25h  Installing build dependencies ... \u001b[?25l\u001b[?25hdone\n",
            "  Getting requirements to build wheel ... \u001b[?25l\u001b[?25hdone\n",
            "  Preparing metadata (pyproject.toml) ... \u001b[?25l\u001b[?25hdone\n",
            "Collecting yt-dlp\n",
            "  Downloading yt_dlp-2023.3.4-py2.py3-none-any.whl (2.9 MB)\n",
            "\u001b[2K     \u001b[90m━━━━━━━━━━━━━━━━━━━━━━━━━━━━━━━━━━━━━━━━\u001b[0m \u001b[32m2.9/2.9 MB\u001b[0m \u001b[31m108.4 MB/s\u001b[0m eta \u001b[36m0:00:00\u001b[0m\n",
            "\u001b[?25hCollecting ffmpeg\n",
            "  Downloading ffmpeg-1.4.tar.gz (5.1 kB)\n",
            "  Preparing metadata (setup.py) ... \u001b[?25l\u001b[?25hdone\n",
            "Requirement already satisfied: triton==2.0.0 in /usr/local/lib/python3.10/dist-packages (from openai-whisper) (2.0.0)\n",
            "Requirement already satisfied: numba in /usr/local/lib/python3.10/dist-packages (from openai-whisper) (0.56.4)\n",
            "Requirement already satisfied: numpy in /usr/local/lib/python3.10/dist-packages (from openai-whisper) (1.22.4)\n",
            "Requirement already satisfied: torch in /usr/local/lib/python3.10/dist-packages (from openai-whisper) (2.0.1+cu118)\n",
            "Requirement already satisfied: tqdm in /usr/local/lib/python3.10/dist-packages (from openai-whisper) (4.65.0)\n",
            "Requirement already satisfied: more-itertools in /usr/local/lib/python3.10/dist-packages (from openai-whisper) (9.1.0)\n",
            "Collecting tiktoken==0.3.1 (from openai-whisper)\n",
            "  Downloading tiktoken-0.3.1-cp310-cp310-manylinux_2_17_x86_64.manylinux2014_x86_64.whl (1.7 MB)\n",
            "\u001b[2K     \u001b[90m━━━━━━━━━━━━━━━━━━━━━━━━━━━━━━━━━━━━━━━━\u001b[0m \u001b[32m1.7/1.7 MB\u001b[0m \u001b[31m72.7 MB/s\u001b[0m eta \u001b[36m0:00:00\u001b[0m\n",
            "\u001b[?25hCollecting ffmpeg-python==0.2.0 (from openai-whisper)\n",
            "  Downloading ffmpeg_python-0.2.0-py3-none-any.whl (25 kB)\n",
            "Requirement already satisfied: future in /usr/local/lib/python3.10/dist-packages (from ffmpeg-python==0.2.0->openai-whisper) (0.18.3)\n",
            "Requirement already satisfied: regex>=2022.1.18 in /usr/local/lib/python3.10/dist-packages (from tiktoken==0.3.1->openai-whisper) (2022.10.31)\n",
            "Requirement already satisfied: requests>=2.26.0 in /usr/local/lib/python3.10/dist-packages (from tiktoken==0.3.1->openai-whisper) (2.27.1)\n",
            "Requirement already satisfied: cmake in /usr/local/lib/python3.10/dist-packages (from triton==2.0.0->openai-whisper) (3.25.2)\n",
            "Requirement already satisfied: filelock in /usr/local/lib/python3.10/dist-packages (from triton==2.0.0->openai-whisper) (3.12.0)\n",
            "Requirement already satisfied: lit in /usr/local/lib/python3.10/dist-packages (from triton==2.0.0->openai-whisper) (16.0.5)\n",
            "Collecting mutagen (from yt-dlp)\n",
            "  Downloading mutagen-1.46.0-py3-none-any.whl (193 kB)\n",
            "\u001b[2K     \u001b[90m━━━━━━━━━━━━━━━━━━━━━━━━━━━━━━━━━━━━━━\u001b[0m \u001b[32m193.6/193.6 kB\u001b[0m \u001b[31m28.7 MB/s\u001b[0m eta \u001b[36m0:00:00\u001b[0m\n",
            "\u001b[?25hCollecting pycryptodomex (from yt-dlp)\n",
            "  Downloading pycryptodomex-3.18.0-cp35-abi3-manylinux_2_17_x86_64.manylinux2014_x86_64.whl (2.1 MB)\n",
            "\u001b[2K     \u001b[90m━━━━━━━━━━━━━━━━━━━━━━━━━━━━━━━━━━━━━━━━\u001b[0m \u001b[32m2.1/2.1 MB\u001b[0m \u001b[31m106.8 MB/s\u001b[0m eta \u001b[36m0:00:00\u001b[0m\n",
            "\u001b[?25hCollecting websockets (from yt-dlp)\n",
            "  Downloading websockets-11.0.3-cp310-cp310-manylinux_2_5_x86_64.manylinux1_x86_64.manylinux_2_17_x86_64.manylinux2014_x86_64.whl (129 kB)\n",
            "\u001b[2K     \u001b[90m━━━━━━━━━━━━━━━━━━━━━━━━━━━━━━━━━━━━━━\u001b[0m \u001b[32m129.9/129.9 kB\u001b[0m \u001b[31m19.4 MB/s\u001b[0m eta \u001b[36m0:00:00\u001b[0m\n",
            "\u001b[?25hRequirement already satisfied: certifi in /usr/local/lib/python3.10/dist-packages (from yt-dlp) (2022.12.7)\n",
            "Collecting brotli (from yt-dlp)\n",
            "  Downloading Brotli-1.0.9-cp310-cp310-manylinux_2_5_x86_64.manylinux1_x86_64.manylinux_2_12_x86_64.manylinux2010_x86_64.whl (2.7 MB)\n",
            "\u001b[2K     \u001b[90m━━━━━━━━━━━━━━━━━━━━━━━━━━━━━━━━━━━━━━━━\u001b[0m \u001b[32m2.7/2.7 MB\u001b[0m \u001b[31m101.9 MB/s\u001b[0m eta \u001b[36m0:00:00\u001b[0m\n",
            "\u001b[?25hRequirement already satisfied: llvmlite<0.40,>=0.39.0dev0 in /usr/local/lib/python3.10/dist-packages (from numba->openai-whisper) (0.39.1)\n",
            "Requirement already satisfied: setuptools in /usr/local/lib/python3.10/dist-packages (from numba->openai-whisper) (67.7.2)\n",
            "Requirement already satisfied: typing-extensions in /usr/local/lib/python3.10/dist-packages (from torch->openai-whisper) (4.5.0)\n",
            "Requirement already satisfied: sympy in /usr/local/lib/python3.10/dist-packages (from torch->openai-whisper) (1.11.1)\n",
            "Requirement already satisfied: networkx in /usr/local/lib/python3.10/dist-packages (from torch->openai-whisper) (3.1)\n",
            "Requirement already satisfied: jinja2 in /usr/local/lib/python3.10/dist-packages (from torch->openai-whisper) (3.1.2)\n",
            "Requirement already satisfied: urllib3<1.27,>=1.21.1 in /usr/local/lib/python3.10/dist-packages (from requests>=2.26.0->tiktoken==0.3.1->openai-whisper) (1.26.15)\n",
            "Requirement already satisfied: charset-normalizer~=2.0.0 in /usr/local/lib/python3.10/dist-packages (from requests>=2.26.0->tiktoken==0.3.1->openai-whisper) (2.0.12)\n",
            "Requirement already satisfied: idna<4,>=2.5 in /usr/local/lib/python3.10/dist-packages (from requests>=2.26.0->tiktoken==0.3.1->openai-whisper) (3.4)\n",
            "Requirement already satisfied: MarkupSafe>=2.0 in /usr/local/lib/python3.10/dist-packages (from jinja2->torch->openai-whisper) (2.1.2)\n",
            "Requirement already satisfied: mpmath>=0.19 in /usr/local/lib/python3.10/dist-packages (from sympy->torch->openai-whisper) (1.3.0)\n",
            "Building wheels for collected packages: openai-whisper, ffmpeg\n",
            "  Building wheel for openai-whisper (pyproject.toml) ... \u001b[?25l\u001b[?25hdone\n",
            "  Created wheel for openai-whisper: filename=openai_whisper-20230314-py3-none-any.whl size=796910 sha256=3be0962da708c741125b275829d780db827475b252bdd4e31828be744b63bcc1\n",
            "  Stored in directory: /root/.cache/pip/wheels/b2/13/5f/fe8245f6dc59df505879da4b2129932e342f02a80e6b87f27d\n",
            "  Building wheel for ffmpeg (setup.py) ... \u001b[?25l\u001b[?25hdone\n",
            "  Created wheel for ffmpeg: filename=ffmpeg-1.4-py3-none-any.whl size=6083 sha256=f877dd42cd75026ca998c175fc3a0d3193ea8f5295c83a151984247e6337437c\n",
            "  Stored in directory: /root/.cache/pip/wheels/8e/7a/69/cd6aeb83b126a7f04cbe7c9d929028dc52a6e7d525ff56003a\n",
            "Successfully built openai-whisper ffmpeg\n",
            "Installing collected packages: ffmpeg, brotli, websockets, pycryptodomex, mutagen, ffmpeg-python, yt-dlp, tiktoken, openai-whisper\n",
            "Successfully installed brotli-1.0.9 ffmpeg-1.4 ffmpeg-python-0.2.0 mutagen-1.46.0 openai-whisper-20230314 pycryptodomex-3.18.0 tiktoken-0.3.1 websockets-11.0.3 yt-dlp-2023.3.4\n"
          ]
        }
      ],
      "source": [
        "! pip install openai-whisper yt-dlp ffmpeg"
      ]
    },
    {
      "cell_type": "markdown",
      "metadata": {
        "id": "pWfd0B3nU_5o"
      },
      "source": [
        "# GPU Checkup\n",
        "\n",
        "If Nothing shows up means you didn't enable GPU in the ``Runtime -> Change Runtime type``"
      ]
    },
    {
      "cell_type": "code",
      "execution_count": 3,
      "metadata": {
        "id": "ukF_tYc9VfGS",
        "colab": {
          "base_uri": "https://localhost:8080/"
        },
        "outputId": "3eb87895-51dc-4db6-b0ed-6b4e43f158fb"
      },
      "outputs": [
        {
          "output_type": "stream",
          "name": "stdout",
          "text": [
            "Tue May 30 10:03:17 2023       \n",
            "+-----------------------------------------------------------------------------+\n",
            "| NVIDIA-SMI 525.85.12    Driver Version: 525.85.12    CUDA Version: 12.0     |\n",
            "|-------------------------------+----------------------+----------------------+\n",
            "| GPU  Name        Persistence-M| Bus-Id        Disp.A | Volatile Uncorr. ECC |\n",
            "| Fan  Temp  Perf  Pwr:Usage/Cap|         Memory-Usage | GPU-Util  Compute M. |\n",
            "|                               |                      |               MIG M. |\n",
            "|===============================+======================+======================|\n",
            "|   0  Tesla T4            Off  | 00000000:00:04.0 Off |                    0 |\n",
            "| N/A   50C    P8     9W /  70W |      0MiB / 15360MiB |      0%      Default |\n",
            "|                               |                      |                  N/A |\n",
            "+-------------------------------+----------------------+----------------------+\n",
            "                                                                               \n",
            "+-----------------------------------------------------------------------------+\n",
            "| Processes:                                                                  |\n",
            "|  GPU   GI   CI        PID   Type   Process name                  GPU Memory |\n",
            "|        ID   ID                                                   Usage      |\n",
            "|=============================================================================|\n",
            "|  No running processes found                                                 |\n",
            "+-----------------------------------------------------------------------------+\n"
          ]
        }
      ],
      "source": [
        "! nvidia-smi"
      ]
    },
    {
      "cell_type": "markdown",
      "metadata": {
        "id": "cRpdHsXmVqsv"
      },
      "source": [
        "# Settings\n"
      ]
    },
    {
      "cell_type": "code",
      "execution_count": 4,
      "metadata": {
        "id": "IccTHdDOVxgL"
      },
      "outputs": [],
      "source": [
        "#@markdown # **Video Link Here**\n",
        "# YouTube Link\n",
        "YouTube_Video_Link = \"https://www.youtube.com/watch?v=UmXNI9PcxDI\" #@param {type:\"string\"}\n",
        "# File Name Change\n",
        "new_filename = \"Alpine Linux - Simple, Small, and Secure\" #@param {type:\"string\"}\n",
        "#@markdown Note: Leave it Blank to let it audio Detect the Language\n",
        "language = \"english\" #@param {type:\"string\"}\n",
        "task = \"transcribe\" #@param ['transcribe', 'translate']\n",
        "# Change it to srt file type\n",
        "new_filename = os.path.splitext(new_filename)[0] + \".srt\"\n",
        "new_filename2 = os.path.splitext(new_filename)[0] + \" Transcript.txt\"\n",
        "# Change the Model of the Whisper\n",
        "#@markdown # **Other Options**\n",
        "Generate_Plain_Document = \"yes\" #@param ['yes','no']\n",
        "shutdown_after_complete = \"yes\" #@param ['yes','no']\n",
        "model_user = \"medium\" #@param ['tiny.en','tiny','base.en','base','small.en','small','medium.en','medium','large-v1','large-v2','large']\n",
        "enable_cookies = \"no\" #@param ['yes', 'no']"
      ]
    },
    {
      "cell_type": "markdown",
      "source": [
        "# If Enable Cookies is Enabled\n",
        "Upload your Cookies file in here"
      ],
      "metadata": {
        "id": "MQa-cRGkAopn"
      }
    },
    {
      "cell_type": "code",
      "source": [
        "import os\n",
        "if enable_cookies.lower() == \"yes\":\n",
        "  print(\"It is not recommended to upload your main account's cookies files here, as this is a shared environment.\")\n",
        "  print(\"Your cookies might get leaked, and I will not take any responsibility if your account gets stolen.\")\n",
        "  print(\"The recommended approach is to use another Google Account's cookies to run this tool.\")\n",
        "  print(\"If it is a private video, you can share the video with that Google Account to grant access to it.\")\n",
        "  print(\"\")\n",
        "\n",
        "  from google.colab import files\n",
        "  cookies = files.upload()\n",
        "\n",
        "  # Specify the path where the files are located\n",
        "  path_cookies = \"/content\"\n",
        "\n",
        "  def rename_files(path_cookies):\n",
        "      for filename in os.listdir(path_cookies):\n",
        "          file_path = os.path.join(path_cookies, filename)\n",
        "          if os.path.isfile(file_path) and filename.endswith(\".txt\"):\n",
        "              new_path = os.path.join(path_cookies, \"cookies.txt\")\n",
        "              os.rename(file_path, new_path)\n",
        "\n",
        "  rename_files(path_cookies)"
      ],
      "metadata": {
        "id": "hPMZ1BQLAoY9"
      },
      "execution_count": 5,
      "outputs": []
    },
    {
      "cell_type": "markdown",
      "metadata": {
        "id": "j1vEu7rbV6xJ"
      },
      "source": [
        "# Download the Video\n",
        "using the yt-dlp and ffmpeg"
      ]
    },
    {
      "cell_type": "code",
      "execution_count": 6,
      "metadata": {
        "id": "o6o0YbciV_aS",
        "colab": {
          "base_uri": "https://localhost:8080/"
        },
        "outputId": "62b05bac-c603-4c24-c6c4-4874ad3586a2"
      },
      "outputs": [
        {
          "output_type": "stream",
          "name": "stdout",
          "text": [
            "[youtube] Extracting URL: https://www.youtube.com/watch?v=UmXNI9PcxDI\n",
            "[youtube] UmXNI9PcxDI: Downloading webpage\n",
            "[youtube] UmXNI9PcxDI: Downloading android player API JSON\n",
            "[info] UmXNI9PcxDI: Downloading 1 format(s): 251\n",
            "[dashsegments] Total fragments: 2\n",
            "[download] Destination: content/audio\n",
            "[download] 100% of   10.31MiB in 00:00:00 at 53.77MiB/s              \n",
            "[ExtractAudio] Destination: content/audio.mp3\n",
            "Deleting original file content/audio (pass -k to keep)\n"
          ]
        }
      ],
      "source": [
        "import yt_dlp\n",
        "\n",
        "if enable_cookies.lower() == \"yes\":\n",
        "\n",
        "  ydl_opts = {\n",
        "      'format': 'bestaudio/best',\n",
        "      'postprocessors': [{\n",
        "          'key': 'FFmpegExtractAudio',\n",
        "          'preferredcodec': 'mp3',\n",
        "          'preferredquality': '192',\n",
        "      }],\n",
        "          'outtmpl': 'content/audio',\n",
        "          'cookiefile': 'cookies.txt'\n",
        "  }\n",
        "\n",
        "else:\n",
        "\n",
        "    ydl_opts = {\n",
        "      'format': 'bestaudio/best',\n",
        "      'postprocessors': [{\n",
        "          'key': 'FFmpegExtractAudio',\n",
        "          'preferredcodec': 'mp3',\n",
        "          'preferredquality': '192',\n",
        "      }],\n",
        "          'outtmpl': 'content/audio',\n",
        "  }\n",
        "\n",
        "with yt_dlp.YoutubeDL(ydl_opts) as ydl:\n",
        "    ydl.download([YouTube_Video_Link])"
      ]
    },
    {
      "cell_type": "markdown",
      "metadata": {
        "id": "ZzO86nhoWPu2"
      },
      "source": [
        "# Generating the SRT file"
      ]
    },
    {
      "cell_type": "code",
      "execution_count": null,
      "metadata": {
        "id": "ZnFM1sy3WTBh",
        "colab": {
          "base_uri": "https://localhost:8080/"
        },
        "outputId": "283e62de-dd62-4bda-cf57-31d07d2ed369"
      },
      "outputs": [
        {
          "output_type": "stream",
          "name": "stderr",
          "text": [
            "100%|██████████████████████████████████████| 1.42G/1.42G [00:07<00:00, 210MiB/s]\n"
          ]
        },
        {
          "output_type": "stream",
          "name": "stdout",
          "text": [
            "Whisper model loaded.\n",
            "[00:00.000 --> 00:05.120]  You know what I need to cover? Alpine Linux. I've installed Alpine probably more than any other\n",
            "[00:05.120 --> 00:09.600]  Linux distribution. I rarely ever use the damn thing. Alpine's are really interesting. Like if\n",
            "[00:09.600 --> 00:17.600]  you want like a really simple, basic one for like, you know, you're putting it on a potato.\n",
            "[00:19.360 --> 00:26.960]  Alpine Linux is kind of what I use for that. Small, simple, secure. Dude, now you're speaking my\n",
            "[00:26.960 --> 00:33.280]  language. Alpine's great. So if you have like a netbook or something like that, you just,\n",
            "[00:33.280 --> 00:37.440]  you can't find anything better than Alpine. I think it's like a hundred megs. Let's just download\n",
            "[00:37.440 --> 00:45.520]  it and just see. I mean, it's something I toss when I need just like a base Linux. It has 64-bit,\n",
            "[00:45.520 --> 00:52.720]  it has ARM, it has PowerPC. You know, you got your traditional right here. Let's just grab the\n",
            "[00:52.720 --> 01:05.280]  traditional 64-bit standard. Yeah. 189 megs and you'll have yourself a Linux base distro.\n",
            "[01:05.280 --> 01:13.440]  Like let's just install it real fast. This is how crazy Alpine Linux is. I don't ever use it. I\n",
            "[01:13.440 --> 01:19.920]  don't even think I've made a video on it, but you really just can't find anything better if you just\n",
            "[01:19.920 --> 01:27.280]  need Linux on a system and you need to do it quick. You'd be hard pressed to find something better.\n",
            "[01:28.160 --> 01:36.720]  Oh, you know what? I need to toss that one second. Titus, what kind of weird, I got to fix my\n",
            "[01:36.720 --> 01:46.720]  my naming here, but do we have images? Let's paste that in here. Alpine standard. Let's just install\n",
            "[01:46.720 --> 01:55.360]  it and just see how long it takes us. All right. Alpine. Where are you at Alpine? I see I got to\n",
            "[01:55.360 --> 02:03.520]  change my collation to show that, but anyways, let's do that. None detected. What's Alpine based\n",
            "[02:03.520 --> 02:11.280]  on it? Is it Debian based? I can't remember. Slackware, I think OpenSUSE is based on Slackware,\n",
            "[02:11.280 --> 02:16.080]  if I'm not mistaken, but Slackware is one of the OGs. I think one of the\n",
            "[02:17.280 --> 02:24.320]  original distributions, one of the very first distributions ever to be made for Linux and I\n",
            "[02:24.320 --> 02:30.560]  want to say the oldest, right? Is there any older distribution in existence? Alpine's independent.\n",
            "[02:30.560 --> 02:36.400]  Okay. Well, let's just go generic Linux and see how it goes. I would normally increase my memory\n",
            "[02:36.400 --> 02:42.880]  and CPU. Well, let's just give it four. I mean, we're really not going to need 25 gigs. Sure.\n",
            "[02:43.520 --> 02:54.000]  Let's customize this. Let's just call this Alpine. We'll do BIOS. I don't really care. Topology. Let's\n",
            "[02:54.720 --> 03:00.800]  fix this. I don't know why it always says that wrong. All right. That should be good.\n",
            "[03:01.360 --> 03:05.840]  So originally Alpine was Gentoo based. Interesting. All right. Let's begin it.\n",
            "[03:07.680 --> 03:16.560]  Local. So it uses OpenRC to start up instead of SystemD. God bless you. See how fast that booted?\n",
            "[03:18.320 --> 03:24.080]  What? That's just insane. So as far as the setup on Alpine, let's just,\n",
            "[03:24.800 --> 03:27.120]  I apparently have forgotten how to install the damn thing.\n",
            "[03:30.880 --> 03:40.400]  So funny. Setup Alpine is the command. All right. Setup-Alpine. Man, I don't know. I might be\n",
            "[03:40.400 --> 03:45.600]  jumping off of the SystemD bandwagon because that was just kind of ridiculous. Wasn't it not?\n",
            "[03:46.240 --> 03:53.440]  Like, let's just give it a reboot. So we've reached the reboot. Okay. Let's toss this boot\n",
            "[03:53.440 --> 03:59.440]  option up here. We'll boot it. All right. We'll just force off, power it on. All right. So we're\n",
            "[03:59.440 --> 04:08.160]  booting it back up. Toss you over there. Cannot read from CD. Oh, what did I do? What did I do?\n",
            "[04:08.800 --> 04:14.960]  This is hilarious. All right. Let's grab Alpine standard. All right. We're booting it up. Here\n",
            "[04:14.960 --> 04:24.400]  comes the boot from the CD. You got to love that. Yeah. SystemD, man. You know, everyone always\n",
            "[04:24.400 --> 04:29.920]  jokes about Linux from scratch, but look at Alpine. That boot time. You just, there's just\n",
            "[04:29.920 --> 04:41.040]  no denying it. My goodness. That really, really makes my brain go. I like it. Yeah, that's true.\n",
            "[04:41.040 --> 04:45.920]  The boasts time is kind of crazy. I actually looked at doing, well, I actually did it on a\n",
            "[04:45.920 --> 04:52.240]  live stream that one time where we tried to flash the firmware. Oh, that was funny. Overwrite like\n",
            "[04:52.240 --> 05:00.800]  Intel ME and flash our firmware chip on the board of a laptop I had to do Libre boot. That was fun.\n",
            "[05:01.520 --> 05:13.600]  Yeah. Now that's so cool. I like it. All right. Yeah. Let's just guess. Setup Alpine. All right.\n",
            "[05:13.600 --> 05:25.520]  Keyboard layout. U.S. available variants. I know I'm good. Oh, U.S. Oh, what would this be?\n",
            "[05:27.360 --> 05:39.680]  U.S. American. Where are you at? Probably U.S. INTL. Oh, just U.S. Yeah, there we go. System host name,\n",
            "[05:40.640 --> 05:51.440]  small as hell. That's what I'm going to do. Let's go E0 DHCP. Do you want to do any manual\n",
            "[05:51.440 --> 06:01.440]  configuration? No. New password. What time zone you in? Let's go list. I want to say just America.\n",
            "[06:01.440 --> 06:13.280]  America Central. Oops. How do you drill down into that directory? Is it America U.S. Central\n",
            "[06:13.280 --> 06:20.080]  or something? Oh, it's probably like Central Standard Time. Oh, damn it. Or America Chicago,\n",
            "[06:20.080 --> 06:28.960]  maybe. Chicago. Okay. That worked. Yeah, it ended up being Chicago. Best for Central.\n",
            "[06:29.440 --> 06:41.040]  Um, proxy none. All right. Select a mirror from above. I mean, okay. Um, yeah, we'll just select\n",
            "[06:41.040 --> 06:52.000]  one. Setup user. Yeah, let's make a user Titus. Titus. Okay. Enter SSH key or URL for Titus. None.\n",
            "[06:52.800 --> 07:02.400]  Which SSH open SSH available disks. Which disk would you like to use? VDA. How would you like\n",
            "[07:02.400 --> 07:13.440]  to use it? Um, let's see. Traditional SIS disk install. No encryption. File systems will be boot,\n",
            "[07:14.240 --> 07:21.920]  root and swap. SIS is fine. Erase the disks. Yes. It's been a little bit since I did Alpine.\n",
            "[07:22.960 --> 07:29.520]  Installation is complete. Please reboot. It's power off. Alpine Linux, ladies and gentlemen,\n",
            "[07:30.240 --> 07:37.520]  in all of its glory. Let's go boot options. We're going to take off that CD-ROM. All right.\n",
            "[07:37.520 --> 07:45.040]  So here we go. Start time. Here comes the boot. Bam. It's like a two second boot. Oh, wait, wait.\n",
            "[07:45.600 --> 07:54.000]  We're discovering the IP. Titus. Wow. I love Alpine. I just love that minimal feel. Like I\n",
            "[07:54.000 --> 08:01.280]  remember installing Alpine. There's also minimal versions of Arch too on, oh geez, I think it was\n",
            "[08:02.160 --> 08:09.840]  some terrible Seagate network drive that like masqueraded as having like its own thing.\n",
            "[08:09.840 --> 08:14.480]  And I remember hooking up a console cable to it and wiping it out and putting like Alpine or\n",
            "[08:15.360 --> 08:22.000]  minimal Arch on it. And, ah, I don't know. There's just something I love about that minimal system\n",
            "[08:22.720 --> 08:30.800]  that you get with Alpine. It's just beautiful. It's just so darn beautiful. Yeah. Clear Linux,\n",
            "[08:30.800 --> 08:37.680]  I heard guys, he's getting discontinued. So the old Intel counterpart of Clear Linux,\n",
            "[08:37.680 --> 08:42.960]  they threw their hat in the ring and they're like, ah, nevermind. We're out. And you know,\n",
            "[08:42.960 --> 08:51.120]  I liked Clear Linux for its ideas. It really took system D to the next level and really\n",
            "[08:51.120 --> 08:56.880]  utilized everything system D had to offer. They were using instead of FS tab, like most distributions,\n",
            "[08:56.880 --> 09:03.040]  it was using the auto mount feature built into system D. It was using like the system D timers\n",
            "[09:03.040 --> 09:09.040]  instead of cron tab. It was using all these things that system D offers, but you know,\n",
            "[09:09.120 --> 09:15.120]  other distributions just didn't use. So I kind of, I kind of dug it. Anyways, Alpine Linux.\n",
            "[09:16.880 --> 09:21.520]  What is the package manager in Alpine? I can't remember. I know it's not a APT, right?\n",
            "[09:24.720 --> 09:32.240]  What do we have? Oh man. Been a minute. APK. That's right. Yeah. So here's your\n",
            "[09:33.200 --> 09:40.480]  APK tools. Ah, so cool. Oh, it doesn't even have a pseudo command. So you got to switch to root.\n",
            "[09:43.280 --> 09:49.760]  Distinct packages, 5,000. All right. Man, that's a fast update on APK.\n",
            "[09:50.480 --> 09:58.800]  We can do an APK search, pseudo. Oh, they're using DoAs, DoAs, pseudo shim. Oh, actually I think\n",
            "[09:58.800 --> 10:11.840]  DoAs. Let's just see. Interesting. Anywho, yeah, I'm done. I'm done. I'm done. I just wanted to\n",
            "[10:11.840 --> 10:19.200]  show Alpine. I love it. It's such a cool distribution that doesn't usually get much love. Oh, okay.\n",
            "[10:19.200 --> 10:26.640]  Yeah. APK upgrade would actually update in this system. So neat. Oh, DoAs is already installed\n",
            "[10:26.640 --> 10:31.440]  by default. Okay. So I just needed to do DoAs instead of pseudo. I probably create an alias\n",
            "[10:31.440 --> 10:37.680]  because I'm so used to doing pseudo. Yeah. It's such a cool distro. It does not give very much.\n",
            "[10:37.680 --> 10:45.280]  I probably need to go through and do a video over Alpine Linux because Alpine is so cool.\n",
            "[10:45.280 --> 10:51.680]  You could install it on literally anything. It's just so minimal. Luke, I'm using Rocky right now.\n",
            "[10:52.640 --> 10:57.040]  Yeah. And Alpine's used massively in corporate data centers. Yeah. I've seen it a lot out in the\n",
            "[10:57.040 --> 11:03.760]  wild in data centers, mainly just because it's such a minimal footprint. Pseudo is bloat. Just\n",
            "[11:03.760 --> 11:11.920]  run everything as root. Yes. 100%. You could install it on a toaster. For sure, Don. No joke.\n",
            "[11:12.560 --> 11:17.280]  If that toaster has enough compute power to throw some digits up on a screen and a little bit of\n",
            "[11:17.360 --> 11:24.400]  storage, you can do it. Like I said, I installed it on a Seagate network drive. It's insane.\n",
            "[11:26.160 --> 11:32.880]  How little it takes. Yeah. And the beauty of having such a small, minimal thing, I know a\n",
            "[11:32.880 --> 11:37.280]  lot of people are always like, why are you always trying to do something minimal or doing this way?\n",
            "[11:38.080 --> 11:44.960]  The less crap you have on a system, the smaller attack surface you have. So if you only have a\n",
            "[11:44.960 --> 11:50.640]  couple things, well, there's only a couple things people can attack you on. Same principle applies\n",
            "[11:50.640 --> 11:59.120]  to my website, christitis.com. It's a static site. You want to hack me? Good luck. There's no attack\n",
            "[11:59.120 --> 12:05.040]  surface. You can't hack an HTML file. You can't hack something that doesn't have a database.\n",
            "[12:05.840 --> 12:12.880]  It's just, that's the beauty of minimalism, especially on these things. So that's the\n"
          ]
        }
      ],
      "source": [
        "import whisper\n",
        "\n",
        "model = whisper.load_model(model_user)\n",
        "\n",
        "print(\"Whisper model loaded.\")\n",
        "\n",
        "\n",
        "from whisper.utils import get_writer\n",
        "\n",
        "filename = \"audio.mp3\"\n",
        "input_directory = \"content\"\n",
        "input_file = f\"{input_directory}/{filename}\"\n",
        "\n",
        "result = model.transcribe(input_file, verbose=True, task=task, language=language)\n",
        "transcription_root = \"/content/gdrive/MyDrive/Whisper/result\"\n",
        "\n",
        "# Save as an SRT file\n",
        "srt_writer = get_writer(\"srt\", transcription_root,)\n",
        "srt_writer(result, new_filename)\n",
        "\n",
        "if Generate_Plain_Document.lower() == \"yes\":\n",
        "\n",
        "  # Save as TXT file\n",
        "  srt_writer = get_writer(\"txt\", transcription_root,)\n",
        "  srt_writer(result, new_filename2)\n",
        "  print(\"Generated srt and txt file in the Google Drive -> Whisper -> result Folder\")\n",
        "\n",
        "else:\n",
        "\n",
        "  print(\"Generated srt file in the Google Drive -> Whisper -> result Folder\")"
      ]
    },
    {
      "cell_type": "markdown",
      "metadata": {
        "id": "tM61x2JuYBl-"
      },
      "source": [
        "# Auto Shutdown the Runtime"
      ]
    },
    {
      "cell_type": "code",
      "execution_count": null,
      "metadata": {
        "id": "dUKHF0-rYGvq"
      },
      "outputs": [],
      "source": [
        "if shutdown_after_complete.lower() == \"yes\":\n",
        "    print(\"Shutting Down the Runtime Because Shutdown After Complete is on\")\n",
        "    from google.colab import runtime\n",
        "    runtime.unassign()"
      ]
    }
  ],
  "metadata": {
    "accelerator": "GPU",
    "colab": {
      "collapsed_sections": [
        "HiME-JOSUfhd"
      ],
      "provenance": [],
      "authorship_tag": "ABX9TyMM4+Zjnt5s2Xd9QYMPB4gk",
      "include_colab_link": true
    },
    "gpuClass": "standard",
    "kernelspec": {
      "display_name": "Python 3",
      "name": "python3"
    },
    "language_info": {
      "name": "python"
    }
  },
  "nbformat": 4,
  "nbformat_minor": 0
}