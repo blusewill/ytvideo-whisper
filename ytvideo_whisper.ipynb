{
  "cells": [
    {
      "cell_type": "markdown",
      "metadata": {
        "id": "view-in-github",
        "colab_type": "text"
      },
      "source": [
        "<a href=\"https://colab.research.google.com/github/blusewill/ytvideo-whisper/blob/dev/ytvideo_whisper.ipynb\" target=\"_parent\"><img src=\"https://colab.research.google.com/assets/colab-badge.svg\" alt=\"Open In Colab\"/></a>"
      ]
    },
    {
      "cell_type": "markdown",
      "metadata": {
        "id": "8QQL1GjFTNNp"
      },
      "source": [
        "# ytvideo-whisper\n",
        "\n",
        "This Project uses the Original [Whisper](https://github.com/openai/whisper) Project instead of Decipher Project.\n",
        "\n",
        "For Everyone who want to use the Original Whisper Project"
      ]
    },
    {
      "cell_type": "markdown",
      "metadata": {
        "id": "vrZvIN-oUKdx"
      },
      "source": [
        "# Usage\n",
        "\n",
        "1. Check the Runtime Type is on GPU Mode in ``Runtime -> Change Runtime Type ``\n",
        "1. Change the Settings at Settings Code Block\n",
        "1. Click ``Runtime -> Run all`` (CTRL+F9)\n",
        "1. Click on the Connect to Google Drive\n",
        "1. And Wait for a moment your Generated Srt should be on ``Google Drive -> Whisper -> result``"
      ]
    },
    {
      "cell_type": "markdown",
      "metadata": {
        "id": "LTpjyRvaUVZh"
      },
      "source": [
        "## Add Google Drive Access \n",
        "(at Google Drive/Whisper)"
      ]
    },
    {
      "cell_type": "code",
      "execution_count": null,
      "metadata": {
        "id": "-M2C9UlxTCjE",
        "colab": {
          "base_uri": "https://localhost:8080/"
        },
        "outputId": "a1f635cc-9598-43fd-c032-bb7e0ca6fa96"
      },
      "outputs": [
        {
          "output_type": "stream",
          "name": "stdout",
          "text": [
            "Mounted at /content/gdrive\n"
          ]
        }
      ],
      "source": [
        "#@markdown # **Expermental Opition**\n",
        "enable_direct_download = \"no\" #@param ['yes', 'no']\n",
        "#@markdown ## **NOT RECOMMEND** if you are running in Firefox type browser like me\n",
        "\n",
        "if enable_direct_download.lower() == 'no':\n",
        "\n",
        "  from google.colab import drive\n",
        "  import os\n",
        "\n",
        "  path = '/content/gdrive/MyDrive/Whisper/'\n",
        "  path2 = '/content/gdrive/MyDrive/Whisper/result'\n",
        "  drive.mount('/content/gdrive')\n",
        "\n",
        "  if not os.path.exists(path):\n",
        "    os.mkdir(path)\n",
        "    os.mkdir(path2)\n"
      ]
    },
    {
      "cell_type": "markdown",
      "metadata": {
        "id": "HiME-JOSUfhd"
      },
      "source": [
        "# Install Components\n",
        "\n",
        "Package : yt-dlp ffmpeg openai-whisper"
      ]
    },
    {
      "cell_type": "code",
      "execution_count": null,
      "metadata": {
        "id": "aXCqLjY0Uz0c",
        "colab": {
          "base_uri": "https://localhost:8080/"
        },
        "outputId": "5af67f88-6c44-4a65-ddca-e393eab54a64"
      },
      "outputs": [
        {
          "output_type": "stream",
          "name": "stdout",
          "text": [
            "Looking in indexes: https://pypi.org/simple, https://us-python.pkg.dev/colab-wheels/public/simple/\n",
            "Collecting openai-whisper\n",
            "  Downloading openai-whisper-20230314.tar.gz (792 kB)\n",
            "\u001b[2K     \u001b[90m━━━━━━━━━━━━━━━━━━━━━━━━━━━━━━━━━━━━━━\u001b[0m \u001b[32m792.9/792.9 kB\u001b[0m \u001b[31m32.0 MB/s\u001b[0m eta \u001b[36m0:00:00\u001b[0m\n",
            "\u001b[?25h  Installing build dependencies ... \u001b[?25l\u001b[?25hdone\n",
            "  Getting requirements to build wheel ... \u001b[?25l\u001b[?25hdone\n",
            "  Preparing metadata (pyproject.toml) ... \u001b[?25l\u001b[?25hdone\n",
            "Collecting yt-dlp\n",
            "  Downloading yt_dlp-2023.3.4-py2.py3-none-any.whl (2.9 MB)\n",
            "\u001b[2K     \u001b[90m━━━━━━━━━━━━━━━━━━━━━━━━━━━━━━━━━━━━━━━━\u001b[0m \u001b[32m2.9/2.9 MB\u001b[0m \u001b[31m96.9 MB/s\u001b[0m eta \u001b[36m0:00:00\u001b[0m\n",
            "\u001b[?25hCollecting ffmpeg\n",
            "  Downloading ffmpeg-1.4.tar.gz (5.1 kB)\n",
            "  Preparing metadata (setup.py) ... \u001b[?25l\u001b[?25hdone\n",
            "Requirement already satisfied: triton==2.0.0 in /usr/local/lib/python3.10/dist-packages (from openai-whisper) (2.0.0)\n",
            "Requirement already satisfied: numba in /usr/local/lib/python3.10/dist-packages (from openai-whisper) (0.56.4)\n",
            "Requirement already satisfied: numpy in /usr/local/lib/python3.10/dist-packages (from openai-whisper) (1.22.4)\n",
            "Requirement already satisfied: torch in /usr/local/lib/python3.10/dist-packages (from openai-whisper) (2.0.1+cu118)\n",
            "Requirement already satisfied: tqdm in /usr/local/lib/python3.10/dist-packages (from openai-whisper) (4.65.0)\n",
            "Requirement already satisfied: more-itertools in /usr/local/lib/python3.10/dist-packages (from openai-whisper) (9.1.0)\n",
            "Collecting tiktoken==0.3.1 (from openai-whisper)\n",
            "  Downloading tiktoken-0.3.1-cp310-cp310-manylinux_2_17_x86_64.manylinux2014_x86_64.whl (1.7 MB)\n",
            "\u001b[2K     \u001b[90m━━━━━━━━━━━━━━━━━━━━━━━━━━━━━━━━━━━━━━━━\u001b[0m \u001b[32m1.7/1.7 MB\u001b[0m \u001b[31m68.4 MB/s\u001b[0m eta \u001b[36m0:00:00\u001b[0m\n",
            "\u001b[?25hCollecting ffmpeg-python==0.2.0 (from openai-whisper)\n",
            "  Downloading ffmpeg_python-0.2.0-py3-none-any.whl (25 kB)\n",
            "Requirement already satisfied: future in /usr/local/lib/python3.10/dist-packages (from ffmpeg-python==0.2.0->openai-whisper) (0.18.3)\n",
            "Requirement already satisfied: regex>=2022.1.18 in /usr/local/lib/python3.10/dist-packages (from tiktoken==0.3.1->openai-whisper) (2022.10.31)\n",
            "Requirement already satisfied: requests>=2.26.0 in /usr/local/lib/python3.10/dist-packages (from tiktoken==0.3.1->openai-whisper) (2.27.1)\n",
            "Requirement already satisfied: cmake in /usr/local/lib/python3.10/dist-packages (from triton==2.0.0->openai-whisper) (3.25.2)\n",
            "Requirement already satisfied: filelock in /usr/local/lib/python3.10/dist-packages (from triton==2.0.0->openai-whisper) (3.12.0)\n",
            "Requirement already satisfied: lit in /usr/local/lib/python3.10/dist-packages (from triton==2.0.0->openai-whisper) (16.0.5)\n",
            "Collecting mutagen (from yt-dlp)\n",
            "  Downloading mutagen-1.46.0-py3-none-any.whl (193 kB)\n",
            "\u001b[2K     \u001b[90m━━━━━━━━━━━━━━━━━━━━━━━━━━━━━━━━━━━━━━\u001b[0m \u001b[32m193.6/193.6 kB\u001b[0m \u001b[31m23.3 MB/s\u001b[0m eta \u001b[36m0:00:00\u001b[0m\n",
            "\u001b[?25hCollecting pycryptodomex (from yt-dlp)\n",
            "  Downloading pycryptodomex-3.18.0-cp35-abi3-manylinux_2_17_x86_64.manylinux2014_x86_64.whl (2.1 MB)\n",
            "\u001b[2K     \u001b[90m━━━━━━━━━━━━━━━━━━━━━━━━━━━━━━━━━━━━━━━━\u001b[0m \u001b[32m2.1/2.1 MB\u001b[0m \u001b[31m77.6 MB/s\u001b[0m eta \u001b[36m0:00:00\u001b[0m\n",
            "\u001b[?25hCollecting websockets (from yt-dlp)\n",
            "  Downloading websockets-11.0.3-cp310-cp310-manylinux_2_5_x86_64.manylinux1_x86_64.manylinux_2_17_x86_64.manylinux2014_x86_64.whl (129 kB)\n",
            "\u001b[2K     \u001b[90m━━━━━━━━━━━━━━━━━━━━━━━━━━━━━━━━━━━━━━\u001b[0m \u001b[32m129.9/129.9 kB\u001b[0m \u001b[31m17.2 MB/s\u001b[0m eta \u001b[36m0:00:00\u001b[0m\n",
            "\u001b[?25hRequirement already satisfied: certifi in /usr/local/lib/python3.10/dist-packages (from yt-dlp) (2022.12.7)\n",
            "Collecting brotli (from yt-dlp)\n",
            "  Downloading Brotli-1.0.9-cp310-cp310-manylinux_2_5_x86_64.manylinux1_x86_64.manylinux_2_12_x86_64.manylinux2010_x86_64.whl (2.7 MB)\n",
            "\u001b[2K     \u001b[90m━━━━━━━━━━━━━━━━━━━━━━━━━━━━━━━━━━━━━━━━\u001b[0m \u001b[32m2.7/2.7 MB\u001b[0m \u001b[31m85.4 MB/s\u001b[0m eta \u001b[36m0:00:00\u001b[0m\n",
            "\u001b[?25hRequirement already satisfied: llvmlite<0.40,>=0.39.0dev0 in /usr/local/lib/python3.10/dist-packages (from numba->openai-whisper) (0.39.1)\n",
            "Requirement already satisfied: setuptools in /usr/local/lib/python3.10/dist-packages (from numba->openai-whisper) (67.7.2)\n",
            "Requirement already satisfied: typing-extensions in /usr/local/lib/python3.10/dist-packages (from torch->openai-whisper) (4.5.0)\n",
            "Requirement already satisfied: sympy in /usr/local/lib/python3.10/dist-packages (from torch->openai-whisper) (1.11.1)\n",
            "Requirement already satisfied: networkx in /usr/local/lib/python3.10/dist-packages (from torch->openai-whisper) (3.1)\n",
            "Requirement already satisfied: jinja2 in /usr/local/lib/python3.10/dist-packages (from torch->openai-whisper) (3.1.2)\n",
            "Requirement already satisfied: urllib3<1.27,>=1.21.1 in /usr/local/lib/python3.10/dist-packages (from requests>=2.26.0->tiktoken==0.3.1->openai-whisper) (1.26.15)\n",
            "Requirement already satisfied: charset-normalizer~=2.0.0 in /usr/local/lib/python3.10/dist-packages (from requests>=2.26.0->tiktoken==0.3.1->openai-whisper) (2.0.12)\n",
            "Requirement already satisfied: idna<4,>=2.5 in /usr/local/lib/python3.10/dist-packages (from requests>=2.26.0->tiktoken==0.3.1->openai-whisper) (3.4)\n",
            "Requirement already satisfied: MarkupSafe>=2.0 in /usr/local/lib/python3.10/dist-packages (from jinja2->torch->openai-whisper) (2.1.2)\n",
            "Requirement already satisfied: mpmath>=0.19 in /usr/local/lib/python3.10/dist-packages (from sympy->torch->openai-whisper) (1.3.0)\n",
            "Building wheels for collected packages: openai-whisper, ffmpeg\n",
            "  Building wheel for openai-whisper (pyproject.toml) ... \u001b[?25l\u001b[?25hdone\n",
            "  Created wheel for openai-whisper: filename=openai_whisper-20230314-py3-none-any.whl size=796910 sha256=0926f66a2dbcb16d2724fa2ad6f43e1dd6debb0599dde04306195ce4faa1271c\n",
            "  Stored in directory: /root/.cache/pip/wheels/b2/13/5f/fe8245f6dc59df505879da4b2129932e342f02a80e6b87f27d\n",
            "  Building wheel for ffmpeg (setup.py) ... \u001b[?25l\u001b[?25hdone\n",
            "  Created wheel for ffmpeg: filename=ffmpeg-1.4-py3-none-any.whl size=6083 sha256=a925e193fd47797313d8e8f1ab9b8b956cf8675db5315b8f88a42058794e1fdb\n",
            "  Stored in directory: /root/.cache/pip/wheels/8e/7a/69/cd6aeb83b126a7f04cbe7c9d929028dc52a6e7d525ff56003a\n",
            "Successfully built openai-whisper ffmpeg\n",
            "Installing collected packages: ffmpeg, brotli, websockets, pycryptodomex, mutagen, ffmpeg-python, yt-dlp, tiktoken, openai-whisper\n",
            "Successfully installed brotli-1.0.9 ffmpeg-1.4 ffmpeg-python-0.2.0 mutagen-1.46.0 openai-whisper-20230314 pycryptodomex-3.18.0 tiktoken-0.3.1 websockets-11.0.3 yt-dlp-2023.3.4\n"
          ]
        }
      ],
      "source": [
        "! pip install openai-whisper yt-dlp ffmpeg"
      ]
    },
    {
      "cell_type": "markdown",
      "metadata": {
        "id": "pWfd0B3nU_5o"
      },
      "source": [
        "# GPU Checkup\n",
        "\n",
        "If Nothing shows up means you didn't enable GPU in the ``Runtime -> Change Runtime type``"
      ]
    },
    {
      "cell_type": "code",
      "execution_count": null,
      "metadata": {
        "id": "ukF_tYc9VfGS",
        "colab": {
          "base_uri": "https://localhost:8080/"
        },
        "outputId": "5a62ad0a-6ee3-4319-c063-7bb3dc687222"
      },
      "outputs": [
        {
          "output_type": "stream",
          "name": "stdout",
          "text": [
            "Tue May 30 14:37:45 2023       \n",
            "+-----------------------------------------------------------------------------+\n",
            "| NVIDIA-SMI 525.85.12    Driver Version: 525.85.12    CUDA Version: 12.0     |\n",
            "|-------------------------------+----------------------+----------------------+\n",
            "| GPU  Name        Persistence-M| Bus-Id        Disp.A | Volatile Uncorr. ECC |\n",
            "| Fan  Temp  Perf  Pwr:Usage/Cap|         Memory-Usage | GPU-Util  Compute M. |\n",
            "|                               |                      |               MIG M. |\n",
            "|===============================+======================+======================|\n",
            "|   0  Tesla T4            Off  | 00000000:00:04.0 Off |                    0 |\n",
            "| N/A   47C    P8     9W /  70W |      0MiB / 15360MiB |      0%      Default |\n",
            "|                               |                      |                  N/A |\n",
            "+-------------------------------+----------------------+----------------------+\n",
            "                                                                               \n",
            "+-----------------------------------------------------------------------------+\n",
            "| Processes:                                                                  |\n",
            "|  GPU   GI   CI        PID   Type   Process name                  GPU Memory |\n",
            "|        ID   ID                                                   Usage      |\n",
            "|=============================================================================|\n",
            "|  No running processes found                                                 |\n",
            "+-----------------------------------------------------------------------------+\n"
          ]
        }
      ],
      "source": [
        "! nvidia-smi"
      ]
    },
    {
      "cell_type": "markdown",
      "metadata": {
        "id": "cRpdHsXmVqsv"
      },
      "source": [
        "# Settings\n"
      ]
    },
    {
      "cell_type": "code",
      "execution_count": null,
      "metadata": {
        "id": "IccTHdDOVxgL"
      },
      "outputs": [],
      "source": [
        "import os\n",
        "\n",
        "#@markdown # **Video Link Here**\n",
        "# YouTube Link\n",
        "YouTube_Video_Link = \"https://www.youtube.com/watch?v=UmXNI9PcxDI\" #@param {type:\"string\"}\n",
        "# File Name Change\n",
        "new_filename = \"Alpine Linux - Simple, Small, and Secure\" #@param {type:\"string\"}\n",
        "#@markdown Note: Leave it Blank to let it audio Detect the Language\n",
        "language = \"\" #@param {type:\"string\"}\n",
        "task = \"transcribe\" #@param ['transcribe', 'translate']\n",
        "# Change it to srt file type\n",
        "new_filename = os.path.splitext(new_filename)[0] + \".srt\"\n",
        "new_filename2 = os.path.splitext(new_filename)[0] + \" Transcript.txt\"\n",
        "# Change the Model of the Whisper\n",
        "#@markdown # **Other Options**\n",
        "Generate_Plain_Document = \"yes\" #@param ['yes','no']\n",
        "shutdown_after_complete = \"yes\" #@param ['yes','no']\n",
        "model_user = \"medium\" #@param ['tiny.en','tiny','base.en','base','small.en','small','medium.en','medium','large-v1','large-v2','large']\n",
        "enable_cookies = \"no\" #@param ['yes', 'no']"
      ]
    },
    {
      "cell_type": "markdown",
      "source": [
        "# If Enable Cookies is Enabled\n",
        "Upload your Cookies file in here"
      ],
      "metadata": {
        "id": "MQa-cRGkAopn"
      }
    },
    {
      "cell_type": "code",
      "source": [
        "import os\n",
        "if enable_cookies.lower() == \"yes\":\n",
        "  print(\"It is not recommended to upload your main account's cookies files here, as this is a shared environment.\")\n",
        "  print(\"Your cookies might get leaked, and I will not take any responsibility if your account gets stolen.\")\n",
        "  print(\"The recommended approach is to use another Google Account's cookies to run this tool.\")\n",
        "  print(\"If it is a private video, you can share the video with that Google Account to grant access to it.\")\n",
        "  print(\"\")\n",
        "\n",
        "  from google.colab import files\n",
        "  cookies = files.upload()\n",
        "\n",
        "  # Specify the path where the files are located\n",
        "  path_cookies = \"/content\"\n",
        "\n",
        "  def rename_files(path_cookies):\n",
        "      for filename in os.listdir(path_cookies):\n",
        "          file_path = os.path.join(path_cookies, filename)\n",
        "          if os.path.isfile(file_path) and filename.endswith(\".txt\"):\n",
        "              new_path = os.path.join(path_cookies, \"cookies.txt\")\n",
        "              os.rename(file_path, new_path)\n",
        "\n",
        "  rename_files(path_cookies)"
      ],
      "metadata": {
        "id": "hPMZ1BQLAoY9"
      },
      "execution_count": null,
      "outputs": []
    },
    {
      "cell_type": "markdown",
      "metadata": {
        "id": "j1vEu7rbV6xJ"
      },
      "source": [
        "# Download the Video\n",
        "using the yt-dlp and ffmpeg"
      ]
    },
    {
      "cell_type": "code",
      "execution_count": null,
      "metadata": {
        "id": "o6o0YbciV_aS",
        "colab": {
          "base_uri": "https://localhost:8080/"
        },
        "outputId": "4458785d-65a8-4ee0-ad1e-88f8e22edc32"
      },
      "outputs": [
        {
          "output_type": "stream",
          "name": "stdout",
          "text": [
            "[youtube] Extracting URL: https://www.youtube.com/watch?v=UmXNI9PcxDI\n",
            "[youtube] UmXNI9PcxDI: Downloading webpage\n",
            "[youtube] UmXNI9PcxDI: Downloading android player API JSON\n",
            "[info] UmXNI9PcxDI: Downloading 1 format(s): 251\n",
            "[dashsegments] Total fragments: 2\n",
            "[download] Destination: content/audio\n",
            "[download] 100% of   10.31MiB in 00:00:00 at 60.42MiB/s              \n",
            "[ExtractAudio] Destination: content/audio.mp3\n",
            "Deleting original file content/audio (pass -k to keep)\n"
          ]
        }
      ],
      "source": [
        "import yt_dlp\n",
        "\n",
        "if enable_cookies.lower() == \"yes\":\n",
        "\n",
        "  ydl_opts = {\n",
        "      'format': 'bestaudio/best',\n",
        "      'postprocessors': [{\n",
        "          'key': 'FFmpegExtractAudio',\n",
        "          'preferredcodec': 'mp3',\n",
        "          'preferredquality': '192',\n",
        "      }],\n",
        "          'outtmpl': 'content/audio',\n",
        "          'cookiefile': 'cookies.txt'\n",
        "  }\n",
        "\n",
        "else:\n",
        "\n",
        "    ydl_opts = {\n",
        "      'format': 'bestaudio/best',\n",
        "      'postprocessors': [{\n",
        "          'key': 'FFmpegExtractAudio',\n",
        "          'preferredcodec': 'mp3',\n",
        "          'preferredquality': '192',\n",
        "      }],\n",
        "          'outtmpl': 'content/audio',\n",
        "  }\n",
        "\n",
        "with yt_dlp.YoutubeDL(ydl_opts) as ydl:\n",
        "    ydl.download([YouTube_Video_Link])"
      ]
    },
    {
      "cell_type": "markdown",
      "metadata": {
        "id": "ZzO86nhoWPu2"
      },
      "source": [
        "# Generating the SRT file"
      ]
    },
    {
      "cell_type": "code",
      "execution_count": null,
      "metadata": {
        "id": "ZnFM1sy3WTBh",
        "colab": {
          "base_uri": "https://localhost:8080/"
        },
        "outputId": "72d24adb-a055-4b61-9fe1-c5d31297a8f6"
      },
      "outputs": [
        {
          "output_type": "stream",
          "name": "stderr",
          "text": [
            "100%|████████████████████████████████████████| 461M/461M [00:02<00:00, 210MiB/s]\n"
          ]
        },
        {
          "output_type": "stream",
          "name": "stdout",
          "text": [
            "Whisper model loaded.\n",
            "[00:00.000 --> 00:04.960]  You know what I need to cover? Alpine Linux. I've installed Alpine probably more than any\n",
            "[00:04.960 --> 00:09.280]  other Linux distribution and I rarely ever use the damn thing. Alpine is a really interesting,\n",
            "[00:09.280 --> 00:17.600]  like if you want like a really simple basic one for like, you know, you're putting it on a potato.\n",
            "[00:19.360 --> 00:26.800]  Alpine Linux is kind of what I use for that. Small, simple, secure. Dude, now you're speaking\n",
            "[00:26.800 --> 00:33.280]  my language. Alpine is great. So if you have like a netbook or something like that, you just,\n",
            "[00:33.280 --> 00:37.680]  you can't find anything better than Alpine. I think it's like 100 megs. Let's just download it and\n",
            "[00:37.680 --> 00:45.520]  just see. I mean, it's something I toss when I need just like a base Linux. It has 64 bits.\n",
            "[00:45.520 --> 00:52.720]  It has ARM. It has PowerPC. You know, you got your traditional right here. Let's just grab the\n",
            "[00:52.720 --> 01:05.280]  traditional 64 bit standard. Yeah, 189 megs. And you'll have yourself a Linux Linux base distro.\n",
            "[01:05.280 --> 01:13.360]  Like let's just install it real fast. This is how crazy Alpine Linux is. I don't ever use it.\n",
            "[01:13.360 --> 01:19.520]  I don't even think I've made a video on it. But you really just can't find anything better if you\n",
            "[01:19.520 --> 01:26.880]  just need Linux on a system and you need to do it quick. You'd be hard pressed to find something\n",
            "[01:26.880 --> 01:36.240]  better. Oh, you know what? I need to toss that one second. Titus. What kind of weird? I got to fix\n",
            "[01:36.240 --> 01:46.160]  my my naiving here. But do we have images? Let's paste that in here. Alpine standard. Let's just\n",
            "[01:46.240 --> 01:52.640]  install it and just see how long it takes us. All right, Alpine. Where you at Alpine?\n",
            "[01:54.560 --> 02:01.840]  See, I got to change my coalition to show that. But anyways, let's do that. None detected.\n",
            "[02:02.480 --> 02:09.120]  What's Alpine based on it? Is it Debian based? I can't remember. Slackware on an all-round mention.\n",
            "[02:09.120 --> 02:15.440]  I think OpenSUSA is based on Slackware if I'm not mistaken. But Slackware is one of like the OGs.\n",
            "[02:15.440 --> 02:22.560]  I think one of the original distributions, one of the very first distributions ever to be made\n",
            "[02:22.560 --> 02:28.800]  for Linux. And I want to say the oldest, right? Is there any older distribution in existence?\n",
            "[02:29.360 --> 02:35.360]  Alpine's independent. Okay. Let's just go generic Linux and see how it goes. I would normally\n",
            "[02:35.360 --> 02:42.560]  increase my memory and CPU. Well, let's just give it four. I mean, we're really gonna need 25 gigs.\n",
            "[02:42.560 --> 02:52.080]  Sure. Let's customize this. Let's just call this Alpine. We'll do BIOS. I don't really care.\n",
            "[02:52.800 --> 03:00.800]  Topology. Let's fix this. I don't know why it always says that wrong. All right. That should be good.\n",
            "[03:01.360 --> 03:05.840]  So originally Alpine was Gen2 based. Interesting. All right, let's begin it.\n",
            "[03:06.560 --> 03:16.560]  Local. So it uses OpenRC to start up instead of SystemD. God bless, you see how fast that booted?\n",
            "[03:17.200 --> 03:24.080]  Like, what? That's just insane. So as far as the setup on Alpine, let's just,\n",
            "[03:24.720 --> 03:27.120]  I apparently have forgotten how to install the damn thing.\n",
            "[03:27.360 --> 03:37.280]  So funny. Set up Alpine is the command. All right. Set up dash Alpine.\n",
            "[03:38.080 --> 03:44.240]  Man, I don't know. I might be jumping off of the SystemD bandwagon. Because that was just kind\n",
            "[03:44.240 --> 03:49.520]  of ridiculous, wasn't it? Not? Like, let's just give it a reboot. So we've reached the reboot.\n",
            "[03:50.080 --> 03:57.680]  Okay. Let's toss this boot option up here. We'll boot it. All right. We'll just force off.\n",
            "[03:58.320 --> 04:02.240]  Power it on. All right. So we're booting it back up. Tosh you over there.\n",
            "[04:04.560 --> 04:11.920]  Cannot read from CD. Oh, what did I do? What did I do? This is hilarious. All right. Let's grab Alpine\n",
            "[04:11.920 --> 04:16.320]  standard. All right. We're booting it up. Here comes the boot from the CD.\n",
            "[04:18.400 --> 04:25.520]  You gotta love that. Yeah, SystemD, man. You know, everyone always jokes about Linux from\n",
            "[04:25.520 --> 04:32.400]  scratch, but look at Alpine. That boot time. You just, there's just no denying it. My goodness.\n",
            "[04:33.280 --> 04:42.480]  That really, really makes my brain go, I like it. Yeah, that's true. The boat's time is kind of crazy.\n",
            "[04:42.480 --> 04:47.120]  I actually looked at doing, well, I actually did it on a live stream that one time where\n",
            "[04:47.840 --> 04:54.160]  we tried to flash the firmware. Oh, that was funny. Overwrite like Intel ME and Flash\n",
            "[04:54.400 --> 05:02.240]  or firmware chip on the board of a laptop I had to do Libre Boot. That was fun. Yeah. Now,\n",
            "[05:03.200 --> 05:14.480]  that's so cool. I like it. All right. Yeah, let's just guess. Set up Alpine. All right. Keyboard layout\n",
            "[05:14.480 --> 05:29.200]  US. Available variants. I know I'm good. Oh, US. What would this be? Oh, US American. Where are you at?\n",
            "[05:32.960 --> 05:42.080]  Probably US INTL. Oh, just US. Yeah, there we go. System host name, small as hell.\n",
            "[05:42.160 --> 05:52.400]  That's what I'm going to do. Let's go E0 DHCP. Do you want to do any manual configuration? No.\n",
            "[05:53.440 --> 06:01.520]  New password. What time zone you in? Let's go lists. I want to say just America.\n",
            "[06:02.080 --> 06:13.360]  America. Central. Oops. How do you drill down into that directory? Is it America US Central or\n",
            "[06:13.360 --> 06:20.400]  something? Oh, it's probably like Central Standard Time. Oh, damn it. Or America, Chicago, maybe?\n",
            "[06:21.200 --> 06:28.960]  Chicago. Okay, that worked. Yeah, I did a be in Chicago. Best for Central.\n",
            "[06:29.840 --> 06:41.360]  Proxy none. All right. Select a mirror from above. I mean, okay. Yeah, we'll just select one.\n",
            "[06:42.320 --> 06:52.080]  Set up user. Yeah, let's make user Titus Titus. Okay, enter SSH key or URL for Titus none.\n",
            "[06:52.800 --> 06:58.960]  Which SSH open SSH available disks, which disk would you like to use?\n",
            "[07:00.080 --> 07:11.520]  VDA. How would you like to use it? Let's see. Traditional sys disk install, no encryption.\n",
            "[07:12.080 --> 07:18.960]  File systems will be boot, root and swap. Yeah, this is fine. Erase the disks. Yes.\n",
            "[07:19.840 --> 07:25.360]  It's been a little bit since I did Alpine installation is complete. Please reboot.\n",
            "[07:26.000 --> 07:33.840]  It's power off Alpine Linux, ladies and gentlemen, in all of its glory. Let's go boot options.\n",
            "[07:33.840 --> 07:41.440]  We're gonna take off that CD ROM. All right. So here we go. Start time. Here comes the boot.\n",
            "[07:42.000 --> 07:49.440]  Bam. It's like a two second boot. Oh, wait, wait. We're discovering the IP Titus. Wow.\n",
            "[07:50.240 --> 07:56.800]  I love Alpine. I just love that minimal feel like I remember installing Alpine. There's also\n",
            "[07:56.800 --> 08:06.000]  minimal versions of Arch too. On Oh, geez, I think it was some terrible Seagate network drive that\n",
            "[08:06.640 --> 08:12.480]  masqueraded as having like its own thing. And I remember hooking up a console cable to it and\n",
            "[08:12.480 --> 08:20.080]  wiping it out and putting like Alpine or minimal arch on it. And I don't know. There's just something\n",
            "[08:20.080 --> 08:28.720]  I love about that minimal system that you get with Alpine. It's just beautiful. It's just so darn\n",
            "[08:28.720 --> 08:36.880]  beautiful. Yeah, clear Linux I heard guys who's getting discontinued. So the old Intel counterpart\n",
            "[08:36.880 --> 08:42.800]  to clear Linux, they threw their hat in the ring and they're like, never mind, we're out. And you\n",
            "[08:42.800 --> 08:51.680]  know, I liked clear Linux for its ideas. It really took system D to the next level and really utilized\n",
            "[08:51.680 --> 08:57.280]  everything system D had to offer. They were using instead of fs tab like most distributions, it was\n",
            "[08:57.280 --> 09:03.760]  using the auto mount feature built into system D. It was using like the system D timers instead of\n",
            "[09:03.760 --> 09:10.240]  cron tab. It was using all these things the system D offers, but you know, other distributions just\n",
            "[09:10.240 --> 09:18.720]  didn't use. So I kind of dug it. Anyways, Alpine Linux. What is the package manager in Alpine?\n",
            "[09:19.520 --> 09:30.400]  I know it's not APT, right? What do we have? Oh, man, been a minute. APK, that's right.\n",
            "[09:31.200 --> 09:38.560]  Yeah, so here's your APK tools. So cool. Oh, it didn't even have a pseudo command.\n",
            "[09:39.280 --> 09:40.400]  So you got to switch to root.\n",
            "[09:43.280 --> 09:52.000]  Distinct packages, 5000. All right. And that's a fast update on APK. We can do an APK search\n",
            "[09:52.000 --> 09:58.800]  pseudo. Oh, they're using do as, do as pseudo shim. Oh, actually, I think\n",
            "[09:59.360 --> 10:11.920]  do as, let's just see. Interesting. Anywho, yeah, I'm done. I'm done. I'm done. I just wanted to\n",
            "[10:11.920 --> 10:19.280]  show Alpine. I love it. It's such a cool distribution that doesn't usually get much love. Oh, okay.\n",
            "[10:19.280 --> 10:26.720]  Yeah, APK upgrade would actually update in this system. So neat. Oh, do as is already installed\n",
            "[10:26.720 --> 10:31.440]  by default. Okay, so I just needed to do as instead of pseudo. I probably create an alias\n",
            "[10:31.440 --> 10:37.760]  because I'm so used to doing pseudo. Yeah, it's such a cool distro. It does not give very much.\n",
            "[10:37.760 --> 10:45.840]  I probably need to go through and do a video over Alpine Linux because Alpine is so cool. You could\n",
            "[10:45.840 --> 10:51.760]  install it on literally anything. It's just so minimal. Luke, I'm using Rocky right now.\n",
            "[10:52.720 --> 10:57.600]  Yeah, and Alpine's use massively incorporate data centers. Yeah, I've seen it a lot out in the wild\n",
            "[10:57.600 --> 11:01.520]  in data centers, mainly just because it's such a minimal footprint.\n",
            "[11:02.720 --> 11:09.920]  Sudo is bloat. Just run everything is root. Yes, 100%. You could install it on a toaster for sure,\n",
            "[11:09.920 --> 11:16.640]  Don. Like no joke. Like if that toaster has enough compute power to throw some digits up on a screen\n",
            "[11:16.640 --> 11:21.520]  and a little bit of storage, you can do it. Like I said, I installed it on like a Seagate\n",
            "[11:21.520 --> 11:31.520]  network drive. It's kind of insane. Like how little it takes. Yeah. And the beauty of having such a\n",
            "[11:31.520 --> 11:34.880]  small minimal thing, I know a lot of people are always like, why are you always trying to do\n",
            "[11:34.880 --> 11:42.240]  something minimal or doing this way? The less crap you have on a system, the smaller attack\n",
            "[11:42.240 --> 11:47.280]  surface you have. So if you only have a couple things, well, there's only a couple things\n",
            "[11:47.280 --> 11:52.480]  people can attack you on. It same principle applies to like my website, christitis.com.\n",
            "[11:53.200 --> 12:01.600]  It's a static site. You want to hack me? Good luck. There's no attack surface. You can't hack an HTML\n",
            "[12:01.600 --> 12:08.560]  file. You can't hack something that doesn't have a database. It's just that's the beauty of minimalism,\n",
            "[12:08.560 --> 12:15.120]  especially on these things. So that's the gist of it. So cool.\n",
            "Generated srt and txt file in the Google Drive -> Whisper -> result Folder\n"
          ]
        }
      ],
      "source": [
        "import whisper\n",
        "\n",
        "model = whisper.load_model(model_user)\n",
        "\n",
        "print(\"Whisper model loaded.\")\n",
        "\n",
        "\n",
        "from whisper.utils import get_writer\n",
        "\n",
        "filename = \"audio.mp3\"\n",
        "input_directory = \"content\"\n",
        "input_file = f\"{input_directory}/{filename}\"\n",
        "if language.lower() == '':\n",
        "  result = model.transcribe(input_file, verbose=True, task=task)\n",
        "else:\n",
        "  result = model.transcribe(input_file, verbose=True, task=task, language=language)\n",
        "\n",
        "if enable_direct_download.lower() == 'no':\n",
        "\n",
        "  transcription_root = \"/content/gdrive/MyDrive/Whisper/result\"\n",
        "\n",
        "else:\n",
        "  os.mkdir(\"result\")\n",
        "  transcription_root = \"/content/result\"\n",
        "\n",
        "# Save as an SRT file\n",
        "srt_writer = get_writer(\"srt\", transcription_root,)\n",
        "srt_writer(result, new_filename)\n",
        "\n",
        "if Generate_Plain_Document.lower() == \"yes\":\n",
        "\n",
        "  # Save as TXT file\n",
        "  srt_writer = get_writer(\"txt\", transcription_root,)\n",
        "  srt_writer(result, new_filename2)\n",
        "  print(\"Generated srt and txt file in the Google Drive -> Whisper -> result Folder\")\n",
        "\n",
        "else:\n",
        "\n",
        "  print(\"Generated srt file in the Google Drive -> Whisper -> result Folder\")"
      ]
    },
    {
      "cell_type": "markdown",
      "source": [
        "# Zip the output file if Google Cloud is Disabled by User"
      ],
      "metadata": {
        "id": "7rWCkivc2Jhx"
      }
    },
    {
      "cell_type": "code",
      "source": [
        "if enable_direct_download.lower() == 'yes':\n",
        "  import shutil \n",
        "  import os.path\n",
        "  from google.colab import files\n",
        "\n",
        "    # Creating the ZIP file \n",
        "  archived = shutil.make_archive(\"output\", 'zip', '/content/result')\n",
        "\n",
        "  if os.path.exists(archived):\n",
        "    print(archived)\n",
        "    files.download(archived) \n",
        "  \n",
        "  else: \n",
        "    print(\"ZIP file not created\")\n",
        "  \n",
        "  if shutdown_after_complete.lower() == \"yes\":\n",
        "    shutdown_after_complete = \"no\"\n",
        "    print(\"Shutdown after Complete is Diabled in this mode due to unable to stop the code\")"
      ],
      "metadata": {
        "colab": {
          "base_uri": "https://localhost:8080/"
        },
        "id": "H-PkcMx22JTF",
        "outputId": "e3830a54-a144-470e-ea90-50ee061e3159"
      },
      "execution_count": null,
      "outputs": [
        {
          "output_type": "stream",
          "name": "stdout",
          "text": [
            "Shutdown after Complete is Diabled in this mode due to unable to stop the code\n"
          ]
        }
      ]
    },
    {
      "cell_type": "markdown",
      "metadata": {
        "id": "tM61x2JuYBl-"
      },
      "source": [
        "# Auto Shutdown the Runtime"
      ]
    },
    {
      "cell_type": "code",
      "execution_count": null,
      "metadata": {
        "id": "dUKHF0-rYGvq"
      },
      "outputs": [],
      "source": [
        "if shutdown_after_complete.lower() == \"yes\":\n",
        "    print(\"Shutting Down the Runtime Because Shutdown After Complete is on\")\n",
        "    from google.colab import runtime\n",
        "    runtime.unassign()"
      ]
    }
  ],
  "metadata": {
    "accelerator": "GPU",
    "colab": {
      "collapsed_sections": [
        "HiME-JOSUfhd"
      ],
      "provenance": [],
      "authorship_tag": "ABX9TyNRQVJZCwUx5HgOUvMK3lMN",
      "include_colab_link": true
    },
    "gpuClass": "standard",
    "kernelspec": {
      "display_name": "Python 3",
      "name": "python3"
    },
    "language_info": {
      "name": "python"
    }
  },
  "nbformat": 4,
  "nbformat_minor": 0
}